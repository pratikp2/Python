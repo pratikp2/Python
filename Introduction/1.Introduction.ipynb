{
 "cells": [
  {
   "cell_type": "markdown",
   "metadata": {},
   "source": [
    "### Input Functions "
   ]
  },
  {
   "cell_type": "code",
   "execution_count": 5,
   "metadata": {},
   "outputs": [
    {
     "name": "stdout",
     "output_type": "stream",
     "text": [
      "Hello, Entered name is Pratik Patil\n"
     ]
    }
   ],
   "source": [
    "First_Name = input(\"Input your first name :  \")\n",
    "Last_Name = input(\"Enter Your last name :  \")\n",
    "print (\"Hello, Entered name is \" + First_Name + \" \" + Last_Name)"
   ]
  },
  {
   "cell_type": "markdown",
   "metadata": {},
   "source": [
    "### Identifiers (Type : String)"
   ]
  },
  {
   "cell_type": "code",
   "execution_count": 16,
   "metadata": {},
   "outputs": [
    {
     "name": "stdout",
     "output_type": "stream",
     "text": [
      "Hello\n",
      "Hello World : From python\n",
      "Hello world from Python.\n",
      "    this is made of multiple lines.\n"
     ]
    }
   ],
   "source": [
    "print ('Hello')\t\t\t\t\t            #  word\t# works with '',\" \" and \"\"\" \"\"\"\n",
    "print (\"Hello World : From python\")\t\t    #  sentense\n",
    "print (\"\"\"Hello world from Python.\n",
    "    this is made of multiple lines.\"\"\")\t\t#  paragraph : Follows exact paragraph orientation given in \"\"\" \"\"\""
   ]
  },
  {
   "cell_type": "markdown",
   "metadata": {},
   "source": [
    "### Identifiers (Type : Number)"
   ]
  },
  {
   "cell_type": "code",
   "execution_count": 31,
   "metadata": {},
   "outputs": [
    {
     "name": "stdout",
     "output_type": "stream",
     "text": [
      "100                Type :    <class 'int'>\n",
      "99.9               Type :    <class 'float'>\n",
      "1000000000         Type :    <class 'int'>\n",
      "100.0 + i 20.0     Type :    <class 'complex'>\n"
     ]
    }
   ],
   "source": [
    "var1 = var2 = var3 = 100\t\t    # Integer assignment\n",
    "print (var1,'               Type :   ',type(var1))\n",
    "var4 = 99.9\t\t\t\t            # Float assignment\n",
    "print (var4,'              Type :   ',type(var4))\n",
    "var5 = 100000*10000\t\t\t        # Long assignment\n",
    "print (var5,'        Type :   ',type(var5))\n",
    "var6 = complex(var1,20)\t\t\t    # Complex assignment\n",
    "print (var6.real, \"+ i\",var6.imag,'    Type :   ',type(var6))"
   ]
  }
 ],
 "metadata": {
  "kernelspec": {
   "display_name": "base",
   "language": "python",
   "name": "python3"
  },
  "language_info": {
   "codemirror_mode": {
    "name": "ipython",
    "version": 3
   },
   "file_extension": ".py",
   "mimetype": "text/x-python",
   "name": "python",
   "nbconvert_exporter": "python",
   "pygments_lexer": "ipython3",
   "version": "3.11.5"
  }
 },
 "nbformat": 4,
 "nbformat_minor": 2
}

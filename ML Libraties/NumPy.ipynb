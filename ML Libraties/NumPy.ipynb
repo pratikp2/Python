{
 "cells": [
  {
   "cell_type": "markdown",
   "metadata": {},
   "source": [
    "## Introduction\n",
    "\n",
    "    NumPy is a Python library used for working with arrays. It also has functions for working in domain of linear algebra, fourier transform, and matrices. NumPy was created in 2005 by Travis Oliphant. It is an open source project and you can use it freely. NumPy stands for Numerical Python.\n",
    "\n",
    "## Why Use NumPy?\n",
    "    In Python we have lists that serve the purpose of arrays, but they are slow to process. NumPy aims to provide an array object that is up to 50x faster than traditional Python lists. The array object in NumPy is called ndarray, it provides a lot of supporting functions that make working with ndarray very easy.Arrays are very frequently used in data science, where speed and resources are very important.\n",
    "\n",
    "## Why is NumPy Faster Than Lists?\n",
    "    NumPy arrays are stored at one continuous place in memory unlike lists, so processes can access and manipulate them very efficiently. This behavior is called locality of reference in computer science. This is the main reason why NumPy is faster than lists. Also it is optimized to work with latest CPU architectures.\n",
    "\n",
    "\n",
    "    "
   ]
  },
  {
   "cell_type": "markdown",
   "metadata": {},
   "source": [
    "### 1 NumPy Arrays"
   ]
  },
  {
   "cell_type": "markdown",
   "metadata": {},
   "source": [
    "**NumPy Array**\n",
    "* An array is a data structure that stores values of same data type.\n",
    "* While python lists can contain values corresponding to different data types, arrays in python can only contain values\n",
    "    corresponding to the same data type. \n",
    "* However python lists fail to deliver the performance required while computing large sets of numerical data. To address this\n",
    "    issue we use NumPy arrays.\n",
    "* We can create NumPy arrays by converting a list to an array.\n"
   ]
  },
  {
   "cell_type": "code",
   "execution_count": 7,
   "metadata": {},
   "outputs": [
    {
     "name": "stdout",
     "output_type": "stream",
     "text": [
      "[10 20 30 40] Data type :  <class 'numpy.ndarray'>\n",
      "10 \n",
      "\n",
      "[[10 20 30 40]\n",
      " [40 30 20 10]]\n",
      "30 \n",
      "\n",
      "['Mercedes' 'BMW' 'Audi' 'Ferrari' 'Tesla'] \n",
      "\n"
     ]
    }
   ],
   "source": [
    "import numpy as np\n",
    "\n",
    "n1=np.array([10,20,30,40])                      # One dimentioneal array\n",
    "print(n1,'Data type : ',type(n1))\n",
    "print(n1[0], '\\n')                              # Access a entry from 1D array\n",
    "\n",
    "n2=np.array([[10,20,30,40],[40,30,20,10]])      # Two dimentioneal array\n",
    "print(n2)\n",
    "print(n2[0,2],'\\n')                             # Access a entry from 1D array\n",
    "\n",
    "arr_str_cars = ['Mercedes', 'BMW', 'Audi', 'Ferrari', 'Tesla']\n",
    "arr_np_list = np.array(arr_str_cars)            # Convert a array in to NumPy array\n",
    "print(arr_np_list, '\\n') \n"
   ]
  },
  {
   "cell_type": "markdown",
   "metadata": {},
   "source": [
    "### 2.2 NumPy Functions"
   ]
  },
  {
   "cell_type": "markdown",
   "metadata": {},
   "source": [
    " #### 1. np.arange()\n",
    "* The np.arange() function returns an array with evenly spaced elements as per the interval. The interval mentioned is half-opened i.e. start is included but stop is excluded.\n",
    "* It has the following paramaters:\n",
    "  * start : start of interval range. By default start = 0\n",
    "  * stop  : end of interval range\n",
    "  * step  : step size of interval. By default step size = 1"
   ]
  },
  {
   "cell_type": "code",
   "execution_count": 10,
   "metadata": {},
   "outputs": [
    {
     "name": "stdout",
     "output_type": "stream",
     "text": [
      "[0 1 2 3 4 5 6 7 8 9]\n",
      "[0 1 2 3 4 5 6 7 8 9]\n",
      "[ 0  5 10 15 20 25 30 35]\n",
      "[ 0  5 10 15 20 25 30 35]\n"
     ]
    }
   ],
   "source": [
    "arr1 = np.arange(start=0, stop=10)          # creation without step\n",
    "print(arr1)\n",
    "# OR\n",
    "arr1 = np.arange(0,10)\n",
    "print(arr1)\n",
    "\n",
    "arr2 = np.arange(start=0, stop=40, step=5)  # Creation with step input\n",
    "print(arr2)\n",
    "#OR\n",
    "arr2 = np.arange(0,40,5)\n",
    "print(arr2)"
   ]
  },
  {
   "cell_type": "markdown",
   "metadata": {},
   "source": [
    "#### 2. np.linspace()\n",
    "* The np.linspace() function returns numbers which are evenly distributed with respect to interval. Here the start and stop both are included.            \n",
    "*It has the following parameters:              \n",
    " * start: start of interval range. By default start = 0\n",
    " * stop: end of interval range\n",
    " * num : No. of samples to generate. By default num = 50"
   ]
  },
  {
   "cell_type": "code",
   "execution_count": 23,
   "metadata": {},
   "outputs": [
    {
     "name": "stdout",
     "output_type": "stream",
     "text": [
      "[ 0.          0.20408163  0.40816327  0.6122449   0.81632653  1.02040816\n",
      "  1.2244898   1.42857143  1.63265306  1.83673469  2.04081633  2.24489796\n",
      "  2.44897959  2.65306122  2.85714286  3.06122449  3.26530612  3.46938776\n",
      "  3.67346939  3.87755102  4.08163265  4.28571429  4.48979592  4.69387755\n",
      "  4.89795918  5.10204082  5.30612245  5.51020408  5.71428571  5.91836735\n",
      "  6.12244898  6.32653061  6.53061224  6.73469388  6.93877551  7.14285714\n",
      "  7.34693878  7.55102041  7.75510204  7.95918367  8.16326531  8.36734694\n",
      "  8.57142857  8.7755102   8.97959184  9.18367347  9.3877551   9.59183673\n",
      "  9.79591837 10.        ]\n",
      "[ 0.          1.42857143  2.85714286  4.28571429  5.71428571  7.14285714\n",
      "  8.57142857 10.        ]\n"
     ]
    }
   ],
   "source": [
    "mat2 = np.linspace(0,10)            # Creation with undefined number samples, so default sample number is taken as 50\n",
    "print(mat2)\n",
    "mat2 = np.linspace(0,10,8)          # Creation with defined number samples, so interval is adjusted according it\n",
    "print(mat2)"
   ]
  },
  {
   "cell_type": "markdown",
   "metadata": {},
   "source": [
    "**How are these values getting generated?**\n",
    "\n",
    "The step size or the difference between each element will be decided by the following formula:\n",
    "\n",
    "**(stop - start) / (total elements - 1)**\n",
    "\n",
    "So, in this case:\n",
    "(5 - 0) / 49 = 0.10204082\n",
    "\n",
    "The first value will be 0.10204082, the second value will be 0.10204082 + 0.10204082, the third value will be 0.10204082 + 0.10204082 +0.10204082, and so on."
   ]
  },
  {
   "cell_type": "markdown",
   "metadata": {},
   "source": [
    "#### 3. np.zeros()\n",
    " \n",
    "* The np.zeros() is a function for creating a matrix and performing matrix operations in NumPy. \n",
    "* It returns a matrix filled with zeros of the given shape. \n",
    "* It has the following parameters:    \n",
    "  * shape : Number of rows and columns in the output matrix.\n",
    "  * dtype: data type of the elements in the matrix, by default the value is set to `float`."
   ]
  },
  {
   "cell_type": "code",
   "execution_count": 22,
   "metadata": {},
   "outputs": [
    {
     "name": "stdout",
     "output_type": "stream",
     "text": [
      "[0. 0. 0. 0. 0.] \n",
      "\n",
      "[[0. 0. 0. 0. 0.]\n",
      " [0. 0. 0. 0. 0.]\n",
      " [0. 0. 0. 0. 0.]]\n"
     ]
    }
   ],
   "source": [
    "arr3 = np.zeros(5)\n",
    "print(arr3, '\\n')\n",
    "mat3 = np.zeros([3,5])\n",
    "print(mat3)"
   ]
  },
  {
   "cell_type": "markdown",
   "metadata": {},
   "source": [
    "#### 4. np.ones()\n",
    "\n",
    "* The np.ones() is another function for creating a matrix and performing matrix operations in NumPy. \n",
    "* It returns a matrix of given shape and type, filled with ones.\n",
    "* It has the following parameters:  \n",
    "  * shape : Number of rows and columns in the output matrix.\n",
    "  * dtype: data type of the elements in the matrix, by default the value is set to `float`."
   ]
  },
  {
   "cell_type": "code",
   "execution_count": 27,
   "metadata": {},
   "outputs": [
    {
     "name": "stdout",
     "output_type": "stream",
     "text": [
      "[1. 1. 1. 1. 1.] \n",
      "\n",
      "[[1. 1. 1. 1. 1.]\n",
      " [1. 1. 1. 1. 1.]\n",
      " [1. 1. 1. 1. 1.]]\n"
     ]
    }
   ],
   "source": [
    "arr4 = np.ones(5)\n",
    "print(arr4, '\\n')\n",
    "mat4 = np.ones([3,5])\n",
    "print(mat4)"
   ]
  },
  {
   "cell_type": "markdown",
   "metadata": {},
   "source": [
    "#### 5. np.eye()\n",
    "* The np.eye() is a function for creating a matrix and performing matrix operations in NumPy. \n",
    "* It returns a matrix with ones on the diagonal and zeros elsewhere. \n",
    "* It has the following parameters:\n",
    "  * n: Number of rows and columns in the output matrix \n",
    "  * dtype: data type of the elements in the matrix, by default the value is set to `float`."
   ]
  },
  {
   "cell_type": "code",
   "execution_count": 28,
   "metadata": {},
   "outputs": [
    {
     "name": "stdout",
     "output_type": "stream",
     "text": [
      "[[1. 0. 0. 0. 0.]\n",
      " [0. 1. 0. 0. 0.]\n",
      " [0. 0. 1. 0. 0.]\n",
      " [0. 0. 0. 1. 0.]\n",
      " [0. 0. 0. 0. 1.]]\n"
     ]
    }
   ],
   "source": [
    "mat5 = np.eye(5)\n",
    "print(mat5)"
   ]
  },
  {
   "cell_type": "markdown",
   "metadata": {},
   "source": [
    "#### 6. np.reshape()"
   ]
  },
  {
   "cell_type": "markdown",
   "metadata": {},
   "source": [
    "**We can also convert a one dimension array to a matrix. This can be done by using the np.reshape() function.**\n",
    "\n",
    "* The shape of an array basically tells the number of elements and dimensions of the array. Reshaping a Numpy array simply means changing the shape of the given array. \n",
    "* By reshaping an array we can add or remove dimensions or change number of elements in each dimension. \n",
    "* In order to reshape a NumPy array, we use the reshape method with the given array. \n",
    "* **Syntax:** array.reshape(shape) \n",
    "  * shape: a tuple given as input, the values in tuple will be the new shape of the array."
   ]
  },
  {
   "cell_type": "code",
   "execution_count": 35,
   "metadata": {},
   "outputs": [
    {
     "name": "stdout",
     "output_type": "stream",
     "text": [
      "[ 0  1  2  3  4  5  6  7  8  9 10 11 12 13 14] \n",
      "\n",
      "[[ 0  1  2  3  4]\n",
      " [ 5  6  7  8  9]\n",
      " [10 11 12 13 14]]\n"
     ]
    }
   ],
   "source": [
    "arr6 = np.arange(0,15)\n",
    "print(arr6, '\\n')\n",
    "mat6 = arr6.reshape((3,5))\n",
    "print(mat6)"
   ]
  },
  {
   "cell_type": "markdown",
   "metadata": {},
   "source": [
    "* To reshape NumPy array number of elements in array has to be equal to (rows X colums) if more or less and Numpy wont be able decide where to put extra elements or what to fill in matrix in case of less elements.\n",
    "\n",
    "* Below  case will not work because we have 15 elements which we are trying to fit in a 4 X 5 shape which will require 20 elements."
   ]
  },
  {
   "cell_type": "code",
   "execution_count": 36,
   "metadata": {},
   "outputs": [
    {
     "ename": "ValueError",
     "evalue": "cannot reshape array of size 5 into shape (4,6)",
     "output_type": "error",
     "traceback": [
      "\u001b[1;31m---------------------------------------------------------------------------\u001b[0m",
      "\u001b[1;31mValueError\u001b[0m                                Traceback (most recent call last)",
      "Cell \u001b[1;32mIn[36], line 1\u001b[0m\n\u001b[1;32m----> 1\u001b[0m mat6 \u001b[38;5;241m=\u001b[39m arr4\u001b[38;5;241m.\u001b[39mreshape((\u001b[38;5;241m4\u001b[39m,\u001b[38;5;241m6\u001b[39m))\n",
      "\u001b[1;31mValueError\u001b[0m: cannot reshape array of size 5 into shape (4,6)"
     ]
    }
   ],
   "source": [
    "mat6 = arr4.reshape((4,6))"
   ]
  },
  {
   "cell_type": "markdown",
   "metadata": {},
   "source": [
    "#### 7. NumPy Mathematical Functions\n",
    "\n",
    "NumPy provides:\n",
    "1. Trigonometric functions \n",
    "2. Exponents and Logarithmic functions"
   ]
  },
  {
   "cell_type": "code",
   "execution_count": 40,
   "metadata": {},
   "outputs": [
    {
     "name": "stdout",
     "output_type": "stream",
     "text": [
      "0.8509035245341184\n",
      "0.5253219888177297\n",
      "1.6197751905438615 \n",
      "\n",
      "7.38905609893065\n",
      "[ 2.71828183  7.3890561  20.08553692 54.59815003] \n",
      "\n",
      "0.6931471805599453\n",
      "[0.         0.69314718 1.09861229 1.38629436]\n",
      "0.3010299956639812\n",
      "1.0\n"
     ]
    }
   ],
   "source": [
    "# Trigonometry\n",
    "val7 = np.sin(45)               # Retriving Sine value\n",
    "print(val7)\n",
    "val7 = np.cos(45)               # Retriving Cosine value\n",
    "print(val7)\n",
    "val7 = np.tan(45)               # Retriving Tan value\n",
    "print(val7, '\\n')\n",
    "\n",
    "# Exponent \n",
    "exp7 = np.exp(2)\n",
    "print(exp7)\n",
    "exp7 = np.arange(1,5)\n",
    "print(np.exp(exp7), '\\n')\n",
    "\n",
    "# Logarithm\n",
    "log7 = np.log(2)                # By default NemPy takes base e for the log (Natural Log)\n",
    "print(log7)\n",
    "log7 = np.log(exp7)             # Natural log of any array of matrix can be directly calculated\n",
    "print(log7)\n",
    "log7 = np.log10(2)              # np.log10() is used for caluclating log with base 10\n",
    "print(log7)\n",
    "log7 = np.log2(2)               # np.log2() is used for caluclating log with base 2\n",
    "print(log7)"
   ]
  },
  {
   "cell_type": "markdown",
   "metadata": {},
   "source": [
    "#### 8. NumPy Matrix arithmatics "
   ]
  },
  {
   "cell_type": "code",
   "execution_count": 55,
   "metadata": {},
   "outputs": [
    {
     "name": "stdout",
     "output_type": "stream",
     "text": [
      "[1 2 3 4]\n",
      "[6 7 8 9] \n",
      "\n",
      "Addition         :    [ 7  9 11 13]\n",
      "Subtraction      :    [5 5 5 5]\n",
      "Multiplication   :    [ 6 14 24 36]\n",
      "Division         :    [6.         3.5        2.66666667 2.25      ]\n",
      "Inversion        :    [0.16666667 0.14285714 0.125      0.11111111]\n",
      "Power            :    [     1    128   6561 262144] \n",
      "\n",
      "[[ 1  2  3  4  5]\n",
      " [ 6  7  8  9 10]\n",
      " [11 12 13 14 15]\n",
      " [16 17 18 19 20]\n",
      " [21 22 23 24 25]] \n",
      "\n",
      "[[1. 0. 0. 0. 0.]\n",
      " [0. 1. 0. 0. 0.]\n",
      " [0. 0. 1. 0. 0.]\n",
      " [0. 0. 0. 1. 0.]\n",
      " [0. 0. 0. 0. 1.]] \n",
      "\n",
      "Addition         :    \n",
      " [[ 2.  2.  3.  4.  5.]\n",
      " [ 6.  8.  8.  9. 10.]\n",
      " [11. 12. 14. 14. 15.]\n",
      " [16. 17. 18. 20. 20.]\n",
      " [21. 22. 23. 24. 26.]] \n",
      "\n",
      "Subtraction      :    \n",
      " [[ 0.  2.  3.  4.  5.]\n",
      " [ 6.  6.  8.  9. 10.]\n",
      " [11. 12. 12. 14. 15.]\n",
      " [16. 17. 18. 18. 20.]\n",
      " [21. 22. 23. 24. 24.]] \n",
      "\n",
      "Multiplication   :    \n",
      " [[ 1.  0.  0.  0.  0.]\n",
      " [ 0.  7.  0.  0.  0.]\n",
      " [ 0.  0. 13.  0.  0.]\n",
      " [ 0.  0.  0. 19.  0.]\n",
      " [ 0.  0.  0.  0. 25.]] \n",
      "\n",
      "Division         :    \n",
      " [[1.         0.         0.         0.         0.        ]\n",
      " [0.         0.14285714 0.         0.         0.        ]\n",
      " [0.         0.         0.07692308 0.         0.        ]\n",
      " [0.         0.         0.         0.05263158 0.        ]\n",
      " [0.         0.         0.         0.         0.04      ]] \n",
      "\n"
     ]
    }
   ],
   "source": [
    "# Operation on array\n",
    "arr8a = np.arange(1,5)\n",
    "print(arr8a)\n",
    "arr8b = np.arange(6,10)\n",
    "print(arr8b,'\\n')\n",
    "\n",
    "print('Addition         :   ',arr8a+arr8b)\n",
    "print('Subtraction      :   ',arr8b-arr8a)\n",
    "print('Multiplication   :   ',arr8a*arr8b)\n",
    "print('Division         :   ',arr8b/arr8a)\n",
    "print('Inversion        :   ',1/arr8b)\n",
    "print('Power            :   ',arr8a**arr8b, '\\n')\n",
    "\n",
    "# Operation on matrix\n",
    "mat8a = np.arange(1,26).reshape(5,5)\n",
    "print(mat8a, '\\n')\n",
    "mat8b = np.eye(5)\n",
    "print(mat8b, '\\n')\n",
    "print('Addition         :   ','\\n',mat8a+mat8b, '\\n')\n",
    "print('Subtraction      :   ','\\n',mat8a-mat8b, '\\n')\n",
    "print('Multiplication   :   ','\\n',mat8a*mat8b, '\\n')\n",
    "print('Division         :   ','\\n',mat8b/mat8a, '\\n')"
   ]
  },
  {
   "cell_type": "markdown",
   "metadata": {},
   "source": [
    "#### 9. Linear algebra matrix Operations\n",
    "\n",
    "* Matrix Multiplication\n",
    "* Matrix Transpose"
   ]
  },
  {
   "cell_type": "code",
   "execution_count": 62,
   "metadata": {},
   "outputs": [
    {
     "name": "stdout",
     "output_type": "stream",
     "text": [
      "[[1 2 3]\n",
      " [4 5 6]\n",
      " [7 8 9]] \n",
      "\n",
      "[[1. 0. 0.]\n",
      " [0. 1. 0.]\n",
      " [0. 0. 1.]] \n",
      "\n",
      "Multiplication   :    \n",
      " [[1. 2. 3.]\n",
      " [4. 5. 6.]\n",
      " [7. 8. 9.]] \n",
      "\n",
      "Transpose 1st Way:    \n",
      " [[1 4 7]\n",
      " [2 5 8]\n",
      " [3 6 9]] \n",
      "\n",
      "Transpose 2nd way:    \n",
      " [[1 4 7]\n",
      " [2 5 8]\n",
      " [3 6 9]] \n",
      "\n"
     ]
    }
   ],
   "source": [
    "mat9a = np.arange(1,10).reshape(3,3)\n",
    "print(mat9a,'\\n',)\n",
    "mat9b = np.eye(3)\n",
    "print(mat9b,'\\n')\n",
    "\n",
    "print('Multiplication   :   ','\\n',mat9a@mat9b, '\\n')               # Matrix Multiplication\n",
    "print('Transpose 1st Way:   ','\\n',np.transpose(mat9a), '\\n')       # Matrix Transpose 1st way\n",
    "print('Transpose 2nd way:   ','\\n',mat9a.T, '\\n')                   # Matrix Transpose 2nd way"
   ]
  },
  {
   "cell_type": "markdown",
   "metadata": {},
   "source": [
    "#### 10. np.max() And np.min()"
   ]
  },
  {
   "cell_type": "code",
   "execution_count": 63,
   "metadata": {},
   "outputs": [
    {
     "name": "stdout",
     "output_type": "stream",
     "text": [
      "[[1 2 3]\n",
      " [4 5 6]\n",
      " [7 8 9]] \n",
      "\n",
      "Maximum  :  9\n",
      "Minimum  :  1\n"
     ]
    }
   ],
   "source": [
    "mat10 = np.arange(1,10).reshape(3,3)\n",
    "print(mat10,'\\n')\n",
    "\n",
    "print(\"Maximum  : \", np.max(mat10))\n",
    "print(\"Minimum  : \", np.min(mat10))"
   ]
  },
  {
   "cell_type": "markdown",
   "metadata": {},
   "source": [
    "#### 11. np.random.rand()\n",
    "\n",
    "* The np.random.rand returns a random NumPy array whose element(s) are drawn randomly from the normal distribution over [0,1). (including 0 but excluding 1). \n",
    "* **Syntax** - np.random.rand(d0,d1)\n",
    "  * d0,d1 – It represents the dimension of the required array given as int, where d1 is optional.\n",
    "\n",
    "* The np.random.randn returns a random numpy array whose sample(s) are drawn randomly from the standard normal distribution (Mean as 0 and standard deviation as 1)\n",
    "\n",
    "* **Syntax** - np.random.randn(d0,d1)\n",
    "  * d0,d1 – It represents the dimension of the output, where d1 is optional."
   ]
  },
  {
   "cell_type": "code",
   "execution_count": 68,
   "metadata": {},
   "outputs": [
    {
     "name": "stdout",
     "output_type": "stream",
     "text": [
      "One dimentional array with random values :  \n",
      " [0.80707652 0.23849371 0.4373421  0.69441819 0.55612681] \n",
      "\n",
      "Two dimentional matrix with random values :  \n",
      " [[0.59206221 0.17322602 0.33685338 0.42168585 0.40125985]\n",
      " [0.19558449 0.22617067 0.39692008 0.26380916 0.81473539]\n",
      " [0.506888   0.16492015 0.41342913 0.99028619 0.82702688]\n",
      " [0.31383768 0.17541634 0.77183739 0.23971985 0.5272059 ]\n",
      " [0.33249156 0.95569359 0.60641373 0.55826004 0.24241074]] \n",
      "\n",
      "One dimentional array with random values :  \n",
      " [ 1.19520813  1.3205216   0.32809006 -1.14398909  0.65528262] \n",
      "\n",
      "Two dimentional matrix with random values :  \n",
      " [[ 0.55190942 -0.24188489  1.67517797  0.32835444 -1.70727598]\n",
      " [-0.29759119  0.35638009 -0.13650308 -1.48534204 -0.06152074]\n",
      " [ 0.44944241  0.00907849 -0.67359574 -0.31256601  0.62279769]\n",
      " [-0.99752541  2.72449124 -1.84631865  0.50712152  1.63636131]\n",
      " [ 0.75271607 -0.12839323  0.21821829  1.56151062  0.45985698]] \n",
      "\n"
     ]
    }
   ],
   "source": [
    "# Random numbers from Normal Distribution [above 0 to brlow 1]\n",
    "rand11a = np.random.rand(5)\n",
    "print('One dimentional array with random values : ','\\n',rand11a,'\\n')\n",
    "rand11b = np.random.rand(5,5)\n",
    "print('Two dimentional matrix with random values : ','\\n',rand11b,'\\n')\n",
    "\n",
    "# Random numbers from Standard Normal Distribution [Mean 0 and Standard Deviation 1]\n",
    "rand11a = np.random.randn(5)\n",
    "print('One dimentional array with random values : ','\\n',rand11a,'\\n')\n",
    "rand11b = np.random.randn(5,5)\n",
    "print('Two dimentional matrix with random values : ','\\n',rand11b,'\\n')"
   ]
  },
  {
   "cell_type": "code",
   "execution_count": null,
   "metadata": {},
   "outputs": [],
   "source": []
  },
  {
   "cell_type": "code",
   "execution_count": null,
   "metadata": {},
   "outputs": [],
   "source": []
  }
 ],
 "metadata": {
  "kernelspec": {
   "display_name": "base",
   "language": "python",
   "name": "python3"
  },
  "language_info": {
   "codemirror_mode": {
    "name": "ipython",
    "version": 3
   },
   "file_extension": ".py",
   "mimetype": "text/x-python",
   "name": "python",
   "nbconvert_exporter": "python",
   "pygments_lexer": "ipython3",
   "version": "3.11.5"
  }
 },
 "nbformat": 4,
 "nbformat_minor": 2
}

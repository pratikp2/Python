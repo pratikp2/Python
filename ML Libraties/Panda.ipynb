{
 "cells": [
  {
   "cell_type": "markdown",
   "metadata": {},
   "source": [
    "### **What is it?**\n",
    "pandas is a Python package that provides fast, flexible, and expressive data structures designed to make working with \"relational\" or \"labeled\" data both easy and intuitive. It aims to be the fundamental high-level building block for doing practical, real world data analysis in Python. Additionally, it has the broader goal of becoming the most powerful and flexible open source data analysis / manipulation tool available in any language. It is already well on its way towards this goal."
   ]
  },
  {
   "cell_type": "code",
   "execution_count": 3,
   "metadata": {},
   "outputs": [],
   "source": [
    "# importing the libraries\n",
    "import numpy as np\n",
    "import pandas as pd"
   ]
  },
  {
   "cell_type": "markdown",
   "metadata": {},
   "source": [
    "### Pandas -  Series and DataFrames"
   ]
  },
  {
   "cell_type": "markdown",
   "metadata": {},
   "source": [
    "**1. Pandas Series**\n",
    "* Pandas Series is a one-dimensional labeled array/list capable of holding data of any type (integer, string, float, python objects, etc.). \n",
    "* The labels are collectively called index. \n",
    "* Pandas Series can be thought as a single column of an excel spreadsheet and each entry in a series corresponds to an individual row in the spreadsheet."
   ]
  },
  {
   "cell_type": "code",
   "execution_count": 9,
   "metadata": {},
   "outputs": [
    {
     "name": "stdout",
     "output_type": "stream",
     "text": [
      "Panda Series via Python List : \n",
      " 0    55\n",
      "1    25\n",
      "2    75\n",
      "3    40\n",
      "4    90\n",
      "dtype: int64 \n",
      "\n",
      "Panda Series via NumPy Array : \n",
      " 0    55\n",
      "1    25\n",
      "2    75\n",
      "3    40\n",
      "4    90\n",
      "dtype: int64 \n",
      "\n",
      "Omeprazole      55\n",
      "Azithromycin    25\n",
      "Metformin       75\n",
      "Ibuprofen       40\n",
      "Cetirizine      90\n",
      "dtype: int64\n"
     ]
    }
   ],
   "source": [
    "# Create via python list\n",
    "pylist = [55,25,75,40,90]\n",
    "pdSeries = pd.Series(pylist)\n",
    "print('Panda Series via Python List :','\\n', pdSeries, '\\n')\n",
    "\n",
    "# Create via numpy array\n",
    "npArray = [55,25,75,40,90]\n",
    "pdSeries = pd.Series(npArray)\n",
    "print('Panda Series via NumPy Array :','\\n', pdSeries, '\\n')\n",
    "\n",
    "# We can see that the list and array have been converted to a Pandas Series object.\n",
    "# We also see that the series has automatically got index labels. Let's see how these can be modified.\n",
    "\n",
    "pdMedList = pd.Series(pylist, index = ['Omeprazole','Azithromycin','Metformin','Ibuprofen','Cetirizine'])\n",
    "print(pdMedList)"
   ]
  },
  {
   "cell_type": "markdown",
   "metadata": {},
   "source": [
    "**Performing mathematical operations on Pandas Series**"
   ]
  },
  {
   "cell_type": "markdown",
   "metadata": {},
   "source": [
    "* The price of each medicine was increased by $2.5. Let's add this to the existing price."
   ]
  },
  {
   "cell_type": "code",
   "execution_count": 14,
   "metadata": {},
   "outputs": [
    {
     "name": "stdout",
     "output_type": "stream",
     "text": [
      "Old Price List \n",
      " Omeprazole      55\n",
      "Azithromycin    25\n",
      "Metformin       75\n",
      "Ibuprofen       40\n",
      "Cetirizine      90\n",
      "dtype: int64 \n",
      "\n",
      "Updated Price List \n",
      " Omeprazole      550\n",
      "Azithromycin    250\n",
      "Metformin       750\n",
      "Ibuprofen       400\n",
      "Cetirizine      900\n",
      "dtype: int64 \n",
      "\n",
      "Difference Price List \n",
      " Omeprazole      495\n",
      "Azithromycin    225\n",
      "Metformin       675\n",
      "Ibuprofen       360\n",
      "Cetirizine      810\n",
      "dtype: int64\n"
     ]
    }
   ],
   "source": [
    "# Update the list price\n",
    "updatedMedList = pdMedList * 10\n",
    "print('Old Price List', '\\n', pdMedList, '\\n')                      # Old Price          \n",
    "print('Updated Price List', '\\n', updatedMedList, '\\n')             # New Price\n",
    "print('Difference in Price List', '\\n', updatedMedList - pdMedList) # Calculate Difference by substracing two pandas "
   ]
  },
  {
   "cell_type": "markdown",
   "metadata": {},
   "source": [
    "**Accessing Series**"
   ]
  },
  {
   "cell_type": "code",
   "execution_count": 32,
   "metadata": {},
   "outputs": [
    {
     "name": "stdout",
     "output_type": "stream",
     "text": [
      "AT&T           171.76\n",
      "Verizon        128.29\n",
      "T-Mobile US     68.40\n",
      "US Cellular      4.04\n",
      "dtype: float64 \n",
      "\n",
      "171.76 \n",
      "\n",
      "AT&T           171.76\n",
      "Verizon        128.29\n",
      "T-Mobile US     68.40\n",
      "dtype: float64 \n",
      "\n",
      "T-Mobile US    68.40\n",
      "US Cellular     4.04\n",
      "dtype: float64 \n",
      "\n",
      "AT&T           171.76\n",
      "T-Mobile US     68.40\n",
      "US Cellular      4.04\n",
      "dtype: float64 \n",
      "\n",
      "171.76 \n",
      "\n",
      "AT&T           171.76\n",
      "Verizon        128.29\n",
      "T-Mobile US     68.40\n",
      "US Cellular      4.04\n",
      "dtype: float64 \n",
      "\n",
      "T-Mobile US    68.40\n",
      "US Cellular     4.04\n",
      "dtype: float64 \n",
      "\n",
      "AT&T           171.76\n",
      "Verizon        128.29\n",
      "US Cellular      4.04\n",
      "dtype: float64 \n",
      "\n"
     ]
    }
   ],
   "source": [
    "operators = ['AT&T', 'Verizon', 'T-Mobile US', 'US Cellular']\n",
    "revenue = [171.76, 128.29, 68.4, 4.04]\n",
    "revenueSeries = pd.Series(revenue, index=operators)\n",
    "print(revenueSeries, '\\n')\n",
    "\n",
    "# Index\n",
    "print(revenueSeries[0], '\\n')             # Access via Index\n",
    "print(revenueSeries[:3], '\\n')            # Access 1st three Elements via \n",
    "print(revenueSeries[-2:], '\\n')           # Access last two elents of the array \n",
    "print(revenueSeries[[0,2,3]], '\\n')       # Access random elements via index\n",
    "\n",
    "# Operators as a key\n",
    "print(revenueSeries['AT&T'], '\\n')                                  # Access via Index\n",
    "print(revenueSeries[:'US Cellular'], '\\n')                          # Access 1st three Elements via \n",
    "print(revenueSeries['T-Mobile US':], '\\n')                          # Access last two elents of the array \n",
    "print(revenueSeries[['AT&T','Verizon','US Cellular']], '\\n')        # Access random elements via index\n"
   ]
  },
  {
   "cell_type": "markdown",
   "metadata": {},
   "source": [
    "**2. Pandas DataFrame**\n",
    "\n",
    "Pandas DataFrame is a two-dimensional tabular data structure with labeled axes (rows and columns)."
   ]
  },
  {
   "cell_type": "code",
   "execution_count": 17,
   "metadata": {},
   "outputs": [
    {
     "name": "stdout",
     "output_type": "stream",
     "text": [
      "  Student\n",
      "0  Pratik\n",
      "1   Peter\n",
      "2   Gopal\n",
      "3    Toby\n",
      "4  Vishal\n"
     ]
    },
    {
     "data": {
      "text/html": [
       "<div>\n",
       "<style scoped>\n",
       "    .dataframe tbody tr th:only-of-type {\n",
       "        vertical-align: middle;\n",
       "    }\n",
       "\n",
       "    .dataframe tbody tr th {\n",
       "        vertical-align: top;\n",
       "    }\n",
       "\n",
       "    .dataframe thead th {\n",
       "        text-align: right;\n",
       "    }\n",
       "</style>\n",
       "<table border=\"1\" class=\"dataframe\">\n",
       "  <thead>\n",
       "    <tr style=\"text-align: right;\">\n",
       "      <th></th>\n",
       "      <th>student</th>\n",
       "      <th>Grades</th>\n",
       "    </tr>\n",
       "  </thead>\n",
       "  <tbody>\n",
       "    <tr>\n",
       "      <th>0</th>\n",
       "      <td>Pratik</td>\n",
       "      <td>A+</td>\n",
       "    </tr>\n",
       "    <tr>\n",
       "      <th>1</th>\n",
       "      <td>Peter</td>\n",
       "      <td>A+</td>\n",
       "    </tr>\n",
       "    <tr>\n",
       "      <th>2</th>\n",
       "      <td>Gopal</td>\n",
       "      <td>F</td>\n",
       "    </tr>\n",
       "    <tr>\n",
       "      <th>3</th>\n",
       "      <td>Toby</td>\n",
       "      <td>B+</td>\n",
       "    </tr>\n",
       "    <tr>\n",
       "      <th>4</th>\n",
       "      <td>Vishal</td>\n",
       "      <td>F</td>\n",
       "    </tr>\n",
       "  </tbody>\n",
       "</table>\n",
       "</div>"
      ],
      "text/plain": [
       "  student Grades\n",
       "0  Pratik     A+\n",
       "1   Peter     A+\n",
       "2   Gopal      F\n",
       "3    Toby     B+\n",
       "4  Vishal      F"
      ]
     },
     "execution_count": 17,
     "metadata": {},
     "output_type": "execute_result"
    }
   ],
   "source": [
    "# Create Data Frame using List\n",
    "pylist = student = ['Pratik', 'Peter', 'Gopal', 'Toby', 'Vishal']\n",
    "df1 = pd.DataFrame(pylist, columns=['Student'])\n",
    "print(df1)\n",
    "\n",
    "# Add a new Column to the Existing DataFrame\n",
    "grades = ['A+','A+','F', 'B+', 'F']\n",
    "df2 = pd.DataFrame({'student':pylist, 'Grades':grades})\n",
    "df2\n"
   ]
  },
  {
   "cell_type": "code",
   "execution_count": 19,
   "metadata": {},
   "outputs": [
    {
     "data": {
      "text/html": [
       "<div>\n",
       "<style scoped>\n",
       "    .dataframe tbody tr th:only-of-type {\n",
       "        vertical-align: middle;\n",
       "    }\n",
       "\n",
       "    .dataframe tbody tr th {\n",
       "        vertical-align: top;\n",
       "    }\n",
       "\n",
       "    .dataframe thead th {\n",
       "        text-align: right;\n",
       "    }\n",
       "</style>\n",
       "<table border=\"1\" class=\"dataframe\">\n",
       "  <thead>\n",
       "    <tr style=\"text-align: right;\">\n",
       "      <th></th>\n",
       "      <th>Year</th>\n",
       "      <th>Energy_Consumption(Mtoe)</th>\n",
       "    </tr>\n",
       "  </thead>\n",
       "  <tbody>\n",
       "    <tr>\n",
       "      <th>0</th>\n",
       "      <td>2012</td>\n",
       "      <td>2152</td>\n",
       "    </tr>\n",
       "    <tr>\n",
       "      <th>1</th>\n",
       "      <td>2013</td>\n",
       "      <td>2196</td>\n",
       "    </tr>\n",
       "    <tr>\n",
       "      <th>2</th>\n",
       "      <td>2014</td>\n",
       "      <td>2217</td>\n",
       "    </tr>\n",
       "    <tr>\n",
       "      <th>3</th>\n",
       "      <td>2015</td>\n",
       "      <td>2194</td>\n",
       "    </tr>\n",
       "    <tr>\n",
       "      <th>4</th>\n",
       "      <td>2016</td>\n",
       "      <td>2172</td>\n",
       "    </tr>\n",
       "    <tr>\n",
       "      <th>5</th>\n",
       "      <td>2017</td>\n",
       "      <td>2180</td>\n",
       "    </tr>\n",
       "    <tr>\n",
       "      <th>6</th>\n",
       "      <td>2018</td>\n",
       "      <td>2258</td>\n",
       "    </tr>\n",
       "  </tbody>\n",
       "</table>\n",
       "</div>"
      ],
      "text/plain": [
       "   Year  Energy_Consumption(Mtoe)\n",
       "0  2012                      2152\n",
       "1  2013                      2196\n",
       "2  2014                      2217\n",
       "3  2015                      2194\n",
       "4  2016                      2172\n",
       "5  2017                      2180\n",
       "6  2018                      2258"
      ]
     },
     "execution_count": 19,
     "metadata": {},
     "output_type": "execute_result"
    }
   ],
   "source": [
    "# Creating a Pandas DataFrame using Series\n",
    "\n",
    "yearSr = pd.Series([2012,2013,2014,2015,2016,2017,2018])\n",
    "energy_consumption = pd.Series([2152,2196,2217,2194,2172,2180,2258])\n",
    "df3 = pd.DataFrame({'Year':yearSr, 'Energy_Consumption(Mtoe)':energy_consumption})\n",
    "df3"
   ]
  },
  {
   "cell_type": "code",
   "execution_count": 22,
   "metadata": {},
   "outputs": [
    {
     "data": {
      "text/html": [
       "<div>\n",
       "<style scoped>\n",
       "    .dataframe tbody tr th:only-of-type {\n",
       "        vertical-align: middle;\n",
       "    }\n",
       "\n",
       "    .dataframe tbody tr th {\n",
       "        vertical-align: top;\n",
       "    }\n",
       "\n",
       "    .dataframe thead th {\n",
       "        text-align: right;\n",
       "    }\n",
       "</style>\n",
       "<table border=\"1\" class=\"dataframe\">\n",
       "  <thead>\n",
       "    <tr style=\"text-align: right;\">\n",
       "      <th></th>\n",
       "      <th>Trial 1</th>\n",
       "      <th>Trial 2</th>\n",
       "    </tr>\n",
       "  </thead>\n",
       "  <tbody>\n",
       "    <tr>\n",
       "      <th>0</th>\n",
       "      <td>2.012995</td>\n",
       "      <td>-0.872349</td>\n",
       "    </tr>\n",
       "    <tr>\n",
       "      <th>1</th>\n",
       "      <td>-0.108550</td>\n",
       "      <td>0.815547</td>\n",
       "    </tr>\n",
       "    <tr>\n",
       "      <th>2</th>\n",
       "      <td>-0.662988</td>\n",
       "      <td>-0.774471</td>\n",
       "    </tr>\n",
       "    <tr>\n",
       "      <th>3</th>\n",
       "      <td>-0.786387</td>\n",
       "      <td>-0.322805</td>\n",
       "    </tr>\n",
       "    <tr>\n",
       "      <th>4</th>\n",
       "      <td>1.626422</td>\n",
       "      <td>0.931812</td>\n",
       "    </tr>\n",
       "  </tbody>\n",
       "</table>\n",
       "</div>"
      ],
      "text/plain": [
       "    Trial 1   Trial 2\n",
       "0  2.012995 -0.872349\n",
       "1 -0.108550  0.815547\n",
       "2 -0.662988 -0.774471\n",
       "3 -0.786387 -0.322805\n",
       "4  1.626422  0.931812"
      ]
     },
     "execution_count": 22,
     "metadata": {},
     "output_type": "execute_result"
    }
   ],
   "source": [
    "# Creating DataFrames Using Randome Values\n",
    "df4 = pd.DataFrame(np.random.randn(5,2), columns=['Trial 1','Trial 2'])\n",
    "df4"
   ]
  },
  {
   "cell_type": "markdown",
   "metadata": {},
   "source": [
    "**Accessing DataFrames**"
   ]
  },
  {
   "cell_type": "code",
   "execution_count": 4,
   "metadata": {},
   "outputs": [
    {
     "name": "stdout",
     "output_type": "stream",
     "text": [
      "  CustomerID       location gender            type  quantity  total_bill\n",
      "0   CustID00        Chicago      M     Electronics         1         100\n",
      "1   CustID01         Boston      M  Food&Beverages         3          75\n",
      "2   CustID02        Seattle      F  Food&Beverages         4         125\n",
      "3   CustID03  San Francisco      M        Medicine         2          50\n",
      "4   CustID04         Austin      F          Beauty         1          80 \n",
      "\n",
      "  CustomerID location gender         type  quantity  total_bill\n",
      "0   CustID00  Chicago      M  Electronics         1         100 \n",
      "\n",
      "0          Chicago\n",
      "1           Boston\n",
      "2          Seattle\n",
      "3    San Francisco\n",
      "4           Austin\n",
      "Name: location, dtype: object \n",
      "\n",
      "  CustomerID location gender            type  quantity  total_bill\n",
      "0   CustID00  Chicago      M     Electronics         1         100\n",
      "2   CustID02  Seattle      F  Food&Beverages         4         125\n",
      "4   CustID04   Austin      F          Beauty         1          80 \n",
      "\n",
      "  CustomerID location gender            type  quantity  total_bill\n",
      "4   CustID04   Austin      F          Beauty         1          80\n",
      "2   CustID02  Seattle      F  Food&Beverages         4         125\n",
      "0   CustID00  Chicago      M     Electronics         1         100\n"
     ]
    }
   ],
   "source": [
    "# creating the dataframe using dictionary\n",
    "store_data = pd.DataFrame({'CustomerID': ['CustID00','CustID01','CustID02','CustID03','CustID04'],\n",
    "                           'location': ['Chicago', 'Boston', 'Seattle', 'San Francisco', 'Austin'],\n",
    "                           'gender': ['M','M','F','M','F'],\n",
    "                           'type': ['Electronics','Food&Beverages','Food&Beverages','Medicine','Beauty'],\n",
    "                           'quantity':[1,3,4,2,1],\n",
    "                           'total_bill':[100,75,125,50,80]}\n",
    "                        )\n",
    "print(store_data, '\\n')\n",
    "\n",
    "# Access\n",
    "print(store_data[:1], '\\n')                 # Access row via Index \n",
    "print(store_data['location'],'\\n')          # Access entire column\n",
    "print(store_data[::2], '\\n')                # Access every entry but with Step size\n",
    "print(store_data[::-2])               # Access every entry but with Step size and in reverse order"
   ]
  },
  {
   "cell_type": "markdown",
   "metadata": {},
   "source": [
    "**Column Addition and Removal from a Pandas DataFrame**"
   ]
  },
  {
   "cell_type": "code",
   "execution_count": 11,
   "metadata": {},
   "outputs": [
    {
     "name": "stdout",
     "output_type": "stream",
     "text": [
      "Before Addition or Removal \n",
      "   CustomerID       location gender            type  quantity  total_bill\n",
      "0   CustID00        Chicago      M     Electronics         1         100\n",
      "1   CustID01         Boston      M  Food&Beverages         3          75\n",
      "2   CustID02        Seattle      F  Food&Beverages         4         125\n",
      "3   CustID03  San Francisco      M        Medicine         2          50\n",
      "4   CustID04         Austin      F          Beauty         1          80 \n",
      "\n",
      "After Addition of Column \n",
      "   CustomerID       location gender            type  quantity  total_bill  \\\n",
      "0   CustID00        Chicago      M     Electronics         1         100   \n",
      "1   CustID01         Boston      M  Food&Beverages         3          75   \n",
      "2   CustID02        Seattle      F  Food&Beverages         4         125   \n",
      "3   CustID03  San Francisco      M        Medicine         2          50   \n",
      "4   CustID04         Austin      F          Beauty         1          80   \n",
      "\n",
      "   rating  \n",
      "0       2  \n",
      "1       5  \n",
      "2       3  \n",
      "3       4  \n",
      "4       4   \n",
      "\n",
      "        location gender            type  quantity  total_bill  rating\n",
      "0        Chicago      M     Electronics         1         100       2\n",
      "1         Boston      M  Food&Beverages         3          75       5\n",
      "2        Seattle      F  Food&Beverages         4         125       3\n",
      "3  San Francisco      M        Medicine         2          50       4\n",
      "4         Austin      F          Beauty         1          80       4 \n",
      "\n",
      "After permant drop of Column \n",
      "         location gender            type  quantity  total_bill  rating\n",
      "0        Chicago      M     Electronics         1         100       2\n",
      "1         Boston      M  Food&Beverages         3          75       5\n",
      "2        Seattle      F  Food&Beverages         4         125       3\n",
      "3  San Francisco      M        Medicine         2          50       4\n",
      "4         Austin      F          Beauty         1          80       4 \n",
      "\n"
     ]
    }
   ],
   "source": [
    "store_data1 = pd.DataFrame({'CustomerID': ['CustID00','CustID01','CustID02','CustID03','CustID04'],\n",
    "                           'location': ['Chicago', 'Boston', 'Seattle', 'San Francisco', 'Austin'],\n",
    "                           'gender': ['M','M','F','M','F'],\n",
    "                           'type': ['Electronics','Food&Beverages','Food&Beverages','Medicine','Beauty'],\n",
    "                           'quantity':[1,3,4,2,1],\n",
    "                           'total_bill':[100,75,125,50,80]}\n",
    "                        )\n",
    "print('Before Addition or Removal','\\n',store_data1, '\\n')\n",
    "\n",
    "# Addition\n",
    "store_data1['rating'] = [2,5,3,4,4]                               # Directly adding a new column to store data\n",
    "print('After Addition of Column','\\n',store_data1, '\\n')\n",
    "\n",
    "# Removal\n",
    "print(store_data1.drop('CustomerID',axis=1),'\\n')                      # Removing Column\n",
    "\n",
    "# While removing in above case it will still keep column in\n",
    "# store_data1 as store_data1 is not disturbed and store_data1\n",
    "# with dropped column is displayed. To actually drop it.\n",
    "store_data1.drop('CustomerID',axis=1,inplace=True)                # Permenanat Removal       \n",
    "print('After permant drop of Column','\\n',store_data1, '\\n')\n"
   ]
  },
  {
   "cell_type": "markdown",
   "metadata": {},
   "source": [
    "**Row Addition and Removal from a Pandas DataFrame**"
   ]
  },
  {
   "cell_type": "code",
   "execution_count": 33,
   "metadata": {},
   "outputs": [
    {
     "name": "stdout",
     "output_type": "stream",
     "text": [
      "Dropped result \n",
      "   CustomerID       location gender            type  quantity  total_bill\n",
      "0   CustID00        Chicago      M     Electronics         1         100\n",
      "2   CustID02        Seattle      F  Food&Beverages         4         125\n",
      "3   CustID03  San Francisco      M        Medicine         2          50\n",
      "4   CustID04         Austin      F          Beauty         1          80 \n",
      "\n",
      "After drop, actual dataframe \n",
      "   CustomerID       location gender            type  quantity  total_bill\n",
      "0   CustID00        Chicago      M     Electronics         1         100\n",
      "1   CustID01         Boston      M  Food&Beverages         3          75\n",
      "2   CustID02        Seattle      F  Food&Beverages         4         125\n",
      "3   CustID03  San Francisco      M        Medicine         2          50\n",
      "4   CustID04         Austin      F          Beauty         1          80 \n",
      "\n",
      "After permeneant drop, actual dataframe \n",
      "   CustomerID       location gender            type  quantity  total_bill\n",
      "0   CustID00        Chicago      M     Electronics         1         100\n",
      "2   CustID02        Seattle      F  Food&Beverages         4         125\n",
      "3   CustID03  San Francisco      M        Medicine         2          50\n",
      "4   CustID04         Austin      F          Beauty         1          80\n",
      "To reset index \n",
      "    index CustomerID       location gender            type  quantity  \\\n",
      "0      0   CustID00        Chicago      M     Electronics         1   \n",
      "1      2   CustID02        Seattle      F  Food&Beverages         4   \n",
      "2      3   CustID03  San Francisco      M        Medicine         2   \n",
      "3      4   CustID04         Austin      F          Beauty         1   \n",
      "\n",
      "   total_bill  \n",
      "0         100  \n",
      "1         125  \n",
      "2          50  \n",
      "3          80   \n",
      "\n",
      "After managing double index column \n",
      "   CustomerID       location gender            type  quantity  total_bill\n",
      "0   CustID00        Chicago      M     Electronics         1         100\n",
      "1   CustID02        Seattle      F  Food&Beverages         4         125\n",
      "2   CustID03  San Francisco      M        Medicine         2          50\n",
      "3   CustID04         Austin      F          Beauty         1          80 \n",
      "\n"
     ]
    }
   ],
   "source": [
    "store_data2 = pd.DataFrame({'CustomerID': ['CustID00','CustID01','CustID02','CustID03','CustID04'],\n",
    "                           'location': ['Chicago', 'Boston', 'Seattle', 'San Francisco', 'Austin'],\n",
    "                           'gender': ['M','M','F','M','F'],\n",
    "                           'type': ['Electronics','Food&Beverages','Food&Beverages','Medicine','Beauty'],\n",
    "                           'quantity':[1,3,4,2,1],\n",
    "                           'total_bill':[100,75,125,50,80]}\n",
    "                        )\n",
    "# Removal of row\n",
    "print('Dropped result','\\n',store_data2.drop(1,axis=0),'\\n')\n",
    "print('After drop, actual dataframe','\\n',store_data2,'\\n')\n",
    "\n",
    "# To drop permenenantly drop it.\n",
    "store_data2.drop(1,axis=0, inplace=True)\n",
    "print('After permeneant drop, actual dataframe', '\\n', store_data2)\n",
    "\n",
    "# To reset the index\n",
    "print('To reset index','\\n',store_data2.reset_index(),'\\n')\n",
    "\n",
    "# We see that the index of the data frame is now resetted but the index has become\n",
    "# a column in the data frame. We do not need the index to become a column so we can\n",
    "# simply set the parameter drop=True`in reset_index() function.\n",
    "store_data2.reset_index(drop=True,inplace=True)\n",
    "print('After managing double index column','\\n',store_data2,'\\n')\n"
   ]
  },
  {
   "cell_type": "markdown",
   "metadata": {},
   "source": [
    "### Panda Methods"
   ]
  },
  {
   "cell_type": "markdown",
   "metadata": {},
   "source": [
    "**1. loc method**\n",
    "\n",
    "* loc is a  method to access rows and columns on pandas objects. When using the loc method on a dataframe, we specify which rows and which columns we want by using the following format:\n",
    "\n",
    "  * **dataframe.loc[row selection, column selection]**\n",
    "\n",
    "* DataFrame.loc[] method is a method that takes **only index labels** and returns row or dataframe if the index label exists in the data frame."
   ]
  },
  {
   "cell_type": "code",
   "execution_count": 64,
   "metadata": {},
   "outputs": [
    {
     "name": "stdout",
     "output_type": "stream",
     "text": [
      "  CustomerID location gender            type  quantity  total_bill\n",
      "1   CustID01   Boston      M  Food&Beverages         3          75\n",
      "4   CustID04   Austin      F     Hello World         1          80 \n",
      "\n",
      "  location            type\n",
      "1   Boston  Food&Beverages\n",
      "4   Austin     Hello World \n",
      "\n",
      "Before Change \n",
      "   CustomerID       location gender            type  quantity  total_bill\n",
      "0   CustID00        Chicago      M     Electronics         1         100\n",
      "1   CustID01         Boston      M  Food&Beverages         3          75\n",
      "2   CustID02        Seattle      F  Food&Beverages         4         125\n",
      "3   CustID03  San Francisco      M        Medicine         2          50\n",
      "4   CustID04         Austin      F     Hello World         1          80 \n",
      "\n",
      "After Change \n",
      "   CustomerID       location gender            type  quantity  total_bill\n",
      "0   CustID00        Chicago      M     Electronics         1         100\n",
      "1   CustID01         Boston      M  Food&Beverages         3          75\n",
      "2   CustID02        Seattle      F  Food&Beverages         4         125\n",
      "3   CustID03  San Francisco      M        Medicine         2          50\n",
      "4   CustID04         Austin      F     Hello World         1          80\n"
     ]
    }
   ],
   "source": [
    "# Access\n",
    "print(store_data.loc[[1,4]], '\\n')                          # Access Multiple Rows \n",
    "print(store_data.loc[[1,4],['location','type']],'\\n')       # Access Multiple Rows with selective column\n",
    "\n",
    "# Modification\n",
    "print('Before Change','\\n', store_data,'\\n')                # initial data\n",
    "store_data.loc[4,'type'] = 'Hello World'                    # Change the Data\n",
    "print('After Change','\\n', store_data)                      # changed data"
   ]
  },
  {
   "cell_type": "markdown",
   "metadata": {},
   "source": [
    "**2. iloc method**\n",
    "\n",
    "* The iloc indexer for Pandas Dataframe is used for **integer location-based** indexing/selection by position. When using the loc method on a dataframe, we specify which rows and which columns we want by using the following format:\n",
    "\n",
    "  * **dataframe.iloc[row selection, column selection]**\n",
    "\n"
   ]
  },
  {
   "cell_type": "code",
   "execution_count": 68,
   "metadata": {},
   "outputs": [
    {
     "name": "stdout",
     "output_type": "stream",
     "text": [
      "  CustomerID location gender            type  quantity  total_bill\n",
      "1   CustID01   Boston      M  Food&Beverages         3          75\n",
      "4   CustID04   Austin  Alien           Alien         1          80 \n",
      "\n",
      "  CustomerID gender\n",
      "1   CustID01      M\n",
      "4   CustID04  Alien \n",
      "\n",
      "Before Change \n",
      "   CustomerID       location gender            type  quantity  total_bill\n",
      "0   CustID00        Chicago      M     Electronics         1         100\n",
      "1   CustID01         Boston      M  Food&Beverages         3          75\n",
      "2   CustID02        Seattle      F  Food&Beverages         4         125\n",
      "3   CustID03  San Francisco      M        Medicine         2          50\n",
      "4   CustID04         Austin  Alien           Alien         1          80 \n",
      "\n",
      "After Change \n",
      "   CustomerID       location    gender            type  quantity  total_bill\n",
      "0   CustID00        Chicago         M     Electronics         1         100\n",
      "1   CustID01         Boston         M  Food&Beverages         3          75\n",
      "2   CustID02        Seattle         F  Food&Beverages         4         125\n",
      "3   CustID03  San Francisco         M        Medicine         2          50\n",
      "4   CustID04         Austin  Bacteria           Alien         1          80\n"
     ]
    }
   ],
   "source": [
    "# Access\n",
    "print(store_data.iloc[[1,4]], '\\n')                 # Access Multiple Rows \n",
    "print(store_data.iloc[[1,4],[0,2]],'\\n' )           # Access Multiple Rows with selective column(compare with loc declaration)\n",
    "\n",
    "# Modification\n",
    "print('Before Change','\\n', store_data,'\\n')        # initial data\n",
    "store_data.iloc[4,2] = 'Bacteria'                   # Change the Data\n",
    "print('After Change','\\n', store_data)              # changed data"
   ]
  },
  {
   "cell_type": "markdown",
   "metadata": {},
   "source": [
    "**Difference between loc and iloc indexing methods**\n",
    "\n",
    "* loc is label-based, which means that you have to specify rows and columns based on their row and column labels.\n",
    "* iloc is integer position-based, so you have to specify rows and columns by their integer position values (0-based integer position).\n"
   ]
  },
  {
   "cell_type": "code",
   "execution_count": 58,
   "metadata": {},
   "outputs": [
    {
     "ename": "IndexError",
     "evalue": ".iloc requires numeric indexers, got ['location' 'type']",
     "output_type": "error",
     "traceback": [
      "\u001b[1;31m---------------------------------------------------------------------------\u001b[0m",
      "\u001b[1;31mIndexError\u001b[0m                                Traceback (most recent call last)",
      "Cell \u001b[1;32mIn[58], line 2\u001b[0m\n\u001b[0;32m      1\u001b[0m \u001b[38;5;66;03m# accessing selected rows and columns using iloc method \u001b[39;00m\n\u001b[1;32m----> 2\u001b[0m store_data\u001b[38;5;241m.\u001b[39miloc[[\u001b[38;5;241m1\u001b[39m,\u001b[38;5;241m4\u001b[39m],[\u001b[38;5;124m'\u001b[39m\u001b[38;5;124mlocation\u001b[39m\u001b[38;5;124m'\u001b[39m,\u001b[38;5;124m'\u001b[39m\u001b[38;5;124mtype\u001b[39m\u001b[38;5;124m'\u001b[39m]]\n",
      "File \u001b[1;32mc:\\ProgramData\\anaconda3\\Lib\\site-packages\\pandas\\core\\indexing.py:1097\u001b[0m, in \u001b[0;36m_LocationIndexer.__getitem__\u001b[1;34m(self, key)\u001b[0m\n\u001b[0;32m   1095\u001b[0m     \u001b[38;5;28;01mif\u001b[39;00m \u001b[38;5;28mself\u001b[39m\u001b[38;5;241m.\u001b[39m_is_scalar_access(key):\n\u001b[0;32m   1096\u001b[0m         \u001b[38;5;28;01mreturn\u001b[39;00m \u001b[38;5;28mself\u001b[39m\u001b[38;5;241m.\u001b[39mobj\u001b[38;5;241m.\u001b[39m_get_value(\u001b[38;5;241m*\u001b[39mkey, takeable\u001b[38;5;241m=\u001b[39m\u001b[38;5;28mself\u001b[39m\u001b[38;5;241m.\u001b[39m_takeable)\n\u001b[1;32m-> 1097\u001b[0m     \u001b[38;5;28;01mreturn\u001b[39;00m \u001b[38;5;28mself\u001b[39m\u001b[38;5;241m.\u001b[39m_getitem_tuple(key)\n\u001b[0;32m   1098\u001b[0m \u001b[38;5;28;01melse\u001b[39;00m:\n\u001b[0;32m   1099\u001b[0m     \u001b[38;5;66;03m# we by definition only have the 0th axis\u001b[39;00m\n\u001b[0;32m   1100\u001b[0m     axis \u001b[38;5;241m=\u001b[39m \u001b[38;5;28mself\u001b[39m\u001b[38;5;241m.\u001b[39maxis \u001b[38;5;129;01mor\u001b[39;00m \u001b[38;5;241m0\u001b[39m\n",
      "File \u001b[1;32mc:\\ProgramData\\anaconda3\\Lib\\site-packages\\pandas\\core\\indexing.py:1594\u001b[0m, in \u001b[0;36m_iLocIndexer._getitem_tuple\u001b[1;34m(self, tup)\u001b[0m\n\u001b[0;32m   1593\u001b[0m \u001b[38;5;28;01mdef\u001b[39;00m \u001b[38;5;21m_getitem_tuple\u001b[39m(\u001b[38;5;28mself\u001b[39m, tup: \u001b[38;5;28mtuple\u001b[39m):\n\u001b[1;32m-> 1594\u001b[0m     tup \u001b[38;5;241m=\u001b[39m \u001b[38;5;28mself\u001b[39m\u001b[38;5;241m.\u001b[39m_validate_tuple_indexer(tup)\n\u001b[0;32m   1595\u001b[0m     \u001b[38;5;28;01mwith\u001b[39;00m suppress(IndexingError):\n\u001b[0;32m   1596\u001b[0m         \u001b[38;5;28;01mreturn\u001b[39;00m \u001b[38;5;28mself\u001b[39m\u001b[38;5;241m.\u001b[39m_getitem_lowerdim(tup)\n",
      "File \u001b[1;32mc:\\ProgramData\\anaconda3\\Lib\\site-packages\\pandas\\core\\indexing.py:904\u001b[0m, in \u001b[0;36m_LocationIndexer._validate_tuple_indexer\u001b[1;34m(self, key)\u001b[0m\n\u001b[0;32m    902\u001b[0m \u001b[38;5;28;01mfor\u001b[39;00m i, k \u001b[38;5;129;01min\u001b[39;00m \u001b[38;5;28menumerate\u001b[39m(key):\n\u001b[0;32m    903\u001b[0m     \u001b[38;5;28;01mtry\u001b[39;00m:\n\u001b[1;32m--> 904\u001b[0m         \u001b[38;5;28mself\u001b[39m\u001b[38;5;241m.\u001b[39m_validate_key(k, i)\n\u001b[0;32m    905\u001b[0m     \u001b[38;5;28;01mexcept\u001b[39;00m \u001b[38;5;167;01mValueError\u001b[39;00m \u001b[38;5;28;01mas\u001b[39;00m err:\n\u001b[0;32m    906\u001b[0m         \u001b[38;5;28;01mraise\u001b[39;00m \u001b[38;5;167;01mValueError\u001b[39;00m(\n\u001b[0;32m    907\u001b[0m             \u001b[38;5;124m\"\u001b[39m\u001b[38;5;124mLocation based indexing can only have \u001b[39m\u001b[38;5;124m\"\u001b[39m\n\u001b[0;32m    908\u001b[0m             \u001b[38;5;124mf\u001b[39m\u001b[38;5;124m\"\u001b[39m\u001b[38;5;124m[\u001b[39m\u001b[38;5;132;01m{\u001b[39;00m\u001b[38;5;28mself\u001b[39m\u001b[38;5;241m.\u001b[39m_valid_types\u001b[38;5;132;01m}\u001b[39;00m\u001b[38;5;124m] types\u001b[39m\u001b[38;5;124m\"\u001b[39m\n\u001b[0;32m    909\u001b[0m         ) \u001b[38;5;28;01mfrom\u001b[39;00m \u001b[38;5;21;01merr\u001b[39;00m\n",
      "File \u001b[1;32mc:\\ProgramData\\anaconda3\\Lib\\site-packages\\pandas\\core\\indexing.py:1512\u001b[0m, in \u001b[0;36m_iLocIndexer._validate_key\u001b[1;34m(self, key, axis)\u001b[0m\n\u001b[0;32m   1510\u001b[0m \u001b[38;5;66;03m# check that the key has a numeric dtype\u001b[39;00m\n\u001b[0;32m   1511\u001b[0m \u001b[38;5;28;01mif\u001b[39;00m \u001b[38;5;129;01mnot\u001b[39;00m is_numeric_dtype(arr\u001b[38;5;241m.\u001b[39mdtype):\n\u001b[1;32m-> 1512\u001b[0m     \u001b[38;5;28;01mraise\u001b[39;00m \u001b[38;5;167;01mIndexError\u001b[39;00m(\u001b[38;5;124mf\u001b[39m\u001b[38;5;124m\"\u001b[39m\u001b[38;5;124m.iloc requires numeric indexers, got \u001b[39m\u001b[38;5;132;01m{\u001b[39;00marr\u001b[38;5;132;01m}\u001b[39;00m\u001b[38;5;124m\"\u001b[39m)\n\u001b[0;32m   1514\u001b[0m \u001b[38;5;66;03m# check that the key does not exceed the maximum size of the index\u001b[39;00m\n\u001b[0;32m   1515\u001b[0m \u001b[38;5;28;01mif\u001b[39;00m \u001b[38;5;28mlen\u001b[39m(arr) \u001b[38;5;129;01mand\u001b[39;00m (arr\u001b[38;5;241m.\u001b[39mmax() \u001b[38;5;241m>\u001b[39m\u001b[38;5;241m=\u001b[39m len_axis \u001b[38;5;129;01mor\u001b[39;00m arr\u001b[38;5;241m.\u001b[39mmin() \u001b[38;5;241m<\u001b[39m \u001b[38;5;241m-\u001b[39mlen_axis):\n",
      "\u001b[1;31mIndexError\u001b[0m: .iloc requires numeric indexers, got ['location' 'type']"
     ]
    }
   ],
   "source": [
    "# accessing selected rows and columns using iloc method \n",
    "store_data.iloc[[1,4],['location','type']]"
   ]
  },
  {
   "cell_type": "markdown",
   "metadata": {},
   "source": [
    "* As expected, .iloc has given error on using 'labels'."
   ]
  },
  {
   "cell_type": "markdown",
   "metadata": {},
   "source": [
    "**3 Condition based indexing**"
   ]
  },
  {
   "cell_type": "code",
   "execution_count": 7,
   "metadata": {},
   "outputs": [
    {
     "name": "stdout",
     "output_type": "stream",
     "text": [
      "0    False\n",
      "1     True\n",
      "2     True\n",
      "3     True\n",
      "4    False\n",
      "Name: quantity, dtype: bool \n",
      "\n",
      "  CustomerID       location gender            type  quantity  total_bill\n",
      "1   CustID01         Boston      M  Food&Beverages         3          75\n",
      "2   CustID02        Seattle      F  Food&Beverages         4         125\n",
      "3   CustID03  San Francisco      M        Medicine         2          50 \n",
      "\n"
     ]
    }
   ],
   "source": [
    "print(store_data['quantity']>1,'\\n')                # Conditional check\n",
    "print(store_data.loc[store_data['quantity']>1], '\\n')         # Conditional Row selection"
   ]
  },
  {
   "cell_type": "markdown",
   "metadata": {},
   "source": [
    "**4. Combining Dataframes**\n",
    "1. concat\n",
    "2. join\n",
    "3. merge"
   ]
  },
  {
   "cell_type": "code",
   "execution_count": 35,
   "metadata": {},
   "outputs": [
    {
     "name": "stdout",
     "output_type": "stream",
     "text": [
      "  customerID category first_visit  sales\n",
      "0        101   Medium         yes    123\n",
      "1        102   Medium          no     52\n",
      "2        103     High         yes    214\n",
      "3        104      Low         yes    663 \n",
      "\n",
      "  customerID  distance  sales\n",
      "4        101        12    123\n",
      "5        103         9    214\n",
      "6        104        44    663\n",
      "7        105        21    331\n"
     ]
    }
   ],
   "source": [
    "data_cust = pd.DataFrame({\"customerID\":['101','102','103','104'], \n",
    "                        'category': ['Medium','Medium','High','Low'],\n",
    "                        'first_visit': ['yes','no','yes','yes'],\n",
    "                        'sales': [123,52,214,663]},index=[0,1,2,3])\n",
    "\n",
    "data_cust_new = pd.DataFrame({\"customerID\":['101','103','104','105'], \n",
    "                    'distance': [12,9,44,21],\n",
    "                    'sales': [123,214,663,331]},index=[4,5,6,7])\n",
    "\n",
    "print(data_cust,'\\n')\n",
    "print(data_cust_new)"
   ]
  },
  {
   "cell_type": "code",
   "execution_count": 40,
   "metadata": {},
   "outputs": [
    {
     "name": "stdout",
     "output_type": "stream",
     "text": [
      "  customerID category first_visit  sales  distance\n",
      "0        101   Medium         yes    123       NaN\n",
      "1        102   Medium          no     52       NaN\n",
      "2        103     High         yes    214       NaN\n",
      "3        104      Low         yes    663       NaN\n",
      "4        101      NaN         NaN    123      12.0\n",
      "5        103      NaN         NaN    214       9.0\n",
      "6        104      NaN         NaN    663      44.0\n",
      "7        105      NaN         NaN    331      21.0 \n",
      "\n",
      "  customerID category first_visit  sales customerID  distance  sales\n",
      "0        101   Medium         yes  123.0        NaN       NaN    NaN\n",
      "1        102   Medium          no   52.0        NaN       NaN    NaN\n",
      "2        103     High         yes  214.0        NaN       NaN    NaN\n",
      "3        104      Low         yes  663.0        NaN       NaN    NaN\n",
      "4        NaN      NaN         NaN    NaN        101      12.0  123.0\n",
      "5        NaN      NaN         NaN    NaN        103       9.0  214.0\n",
      "6        NaN      NaN         NaN    NaN        104      44.0  663.0\n",
      "7        NaN      NaN         NaN    NaN        105      21.0  331.0\n"
     ]
    }
   ],
   "source": [
    "# 1. Concat \n",
    "print(pd.concat([data_cust,data_cust_new],axis=0), '\\n')\n",
    "print(pd.concat([data_cust,data_cust_new],axis=1))"
   ]
  },
  {
   "cell_type": "code",
   "execution_count": 44,
   "metadata": {},
   "outputs": [
    {
     "name": "stdout",
     "output_type": "stream",
     "text": [
      "  customerID category first_visit  sales_x  distance  sales_y\n",
      "0        101   Medium         yes    123.0      12.0    123.0\n",
      "1        102   Medium          no     52.0       NaN      NaN\n",
      "2        103     High         yes    214.0       9.0    214.0\n",
      "3        104      Low         yes    663.0      44.0    663.0\n",
      "4        105      NaN         NaN      NaN      21.0    331.0 \n",
      "\n",
      "  customerID category first_visit  sales_x  distance  sales_y\n",
      "0        101   Medium         yes      123        12      123\n",
      "1        103     High         yes      214         9      214\n",
      "2        104      Low         yes      663        44      663 \n",
      "\n",
      "  customerID category first_visit  sales_x  distance  sales_y\n",
      "0        101   Medium         yes    123.0        12      123\n",
      "1        103     High         yes    214.0         9      214\n",
      "2        104      Low         yes    663.0        44      663\n",
      "3        105      NaN         NaN      NaN        21      331 \n",
      "\n",
      "  customerID category first_visit  sales_x  distance  sales_y\n",
      "0        101   Medium         yes      123      12.0    123.0\n",
      "1        102   Medium          no       52       NaN      NaN\n",
      "2        103     High         yes      214       9.0    214.0\n",
      "3        104      Low         yes      663      44.0    663.0\n"
     ]
    }
   ],
   "source": [
    "# 2. Merge\n",
    "# Merge combines dataframes using a column's values to identify common entries\n",
    "\n",
    "print(pd.merge(data_cust,data_cust_new,how='outer',on='customerID'),'\\n') # outer merge is union of on\n",
    "print(pd.merge(data_cust,data_cust_new,how='inner',on='customerID'),'\\n') # inner merge is intersection of on\n",
    "print(pd.merge(data_cust,data_cust_new,how='right',on='customerID'),'\\n')\n",
    "print(pd.merge(data_cust,data_cust_new,how='left',on='customerID'),)"
   ]
  },
  {
   "cell_type": "code",
   "execution_count": 46,
   "metadata": {},
   "outputs": [
    {
     "name": "stdout",
     "output_type": "stream",
     "text": [
      "     Q1   Q2\n",
      "I0  101  201\n",
      "I1  102  202\n",
      "I2  103  203 \n",
      "\n",
      "     Q3   Q4\n",
      "I0  301  401\n",
      "I2  302  402\n",
      "I3  303  403 \n",
      "\n"
     ]
    },
    {
     "data": {
      "text/html": [
       "<div>\n",
       "<style scoped>\n",
       "    .dataframe tbody tr th:only-of-type {\n",
       "        vertical-align: middle;\n",
       "    }\n",
       "\n",
       "    .dataframe tbody tr th {\n",
       "        vertical-align: top;\n",
       "    }\n",
       "\n",
       "    .dataframe thead th {\n",
       "        text-align: right;\n",
       "    }\n",
       "</style>\n",
       "<table border=\"1\" class=\"dataframe\">\n",
       "  <thead>\n",
       "    <tr style=\"text-align: right;\">\n",
       "      <th></th>\n",
       "      <th>Q1</th>\n",
       "      <th>Q2</th>\n",
       "      <th>Q3</th>\n",
       "      <th>Q4</th>\n",
       "    </tr>\n",
       "  </thead>\n",
       "  <tbody>\n",
       "    <tr>\n",
       "      <th>I0</th>\n",
       "      <td>101.0</td>\n",
       "      <td>201.0</td>\n",
       "      <td>301</td>\n",
       "      <td>401</td>\n",
       "    </tr>\n",
       "    <tr>\n",
       "      <th>I2</th>\n",
       "      <td>103.0</td>\n",
       "      <td>203.0</td>\n",
       "      <td>302</td>\n",
       "      <td>402</td>\n",
       "    </tr>\n",
       "    <tr>\n",
       "      <th>I3</th>\n",
       "      <td>NaN</td>\n",
       "      <td>NaN</td>\n",
       "      <td>303</td>\n",
       "      <td>403</td>\n",
       "    </tr>\n",
       "  </tbody>\n",
       "</table>\n",
       "</div>"
      ],
      "text/plain": [
       "       Q1     Q2   Q3   Q4\n",
       "I0  101.0  201.0  301  401\n",
       "I2  103.0  203.0  302  402\n",
       "I3    NaN    NaN  303  403"
      ]
     },
     "execution_count": 46,
     "metadata": {},
     "output_type": "execute_result"
    }
   ],
   "source": [
    "# 3. Join\n",
    "\n",
    "data_quarters = pd.DataFrame({'Q1': [101,102,103],\n",
    "                              'Q2': [201,202,203]},\n",
    "                               index=['I0','I1','I2'])\n",
    "\n",
    "data_quarters_new = pd.DataFrame({'Q3': [301,302,303],\n",
    "                                  'Q4': [401,402,403]},\n",
    "                               index=['I0','I2','I3'])\n",
    "\n",
    "print(data_quarters,'\\n')\n",
    "print(data_quarters_new,'\\n')\n",
    "\n",
    "# join behaves just like merge,  except instead of using the values of one of the\n",
    "# columns to combine data frames, it uses the index labels\n",
    "\n",
    "data_quarters.join(data_quarters_new,how='right') # outer, inner, left, and right work the same as merge\n"
   ]
  }
 ],
 "metadata": {
  "kernelspec": {
   "display_name": "base",
   "language": "python",
   "name": "python3"
  },
  "language_info": {
   "codemirror_mode": {
    "name": "ipython",
    "version": 3
   },
   "file_extension": ".py",
   "mimetype": "text/x-python",
   "name": "python",
   "nbconvert_exporter": "python",
   "pygments_lexer": "ipython3",
   "version": "3.11.5"
  }
 },
 "nbformat": 4,
 "nbformat_minor": 2
}

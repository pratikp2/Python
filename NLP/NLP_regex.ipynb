{
 "cells": [
  {
   "cell_type": "code",
   "execution_count": 1,
   "metadata": {},
   "outputs": [],
   "source": [
    "import re"
   ]
  },
  {
   "cell_type": "code",
   "execution_count": 2,
   "metadata": {},
   "outputs": [],
   "source": [
    "chat1 = 'codebasics: you ask lot of questions 😠  1235678912, abc@xyz.com 9767160310'\n",
    "chat2 = 'codebasics: here it is: (123)-567-8912, abc@xyz.com'\n",
    "chat3 = 'codebasics: yes, phone: 1235678912 email: abc@xyz.com'\n",
    "\n",
    "chat4 = 'codebasics: Hello, I am having an issue with my order # 412889912'\n",
    "chat5 = 'codebasics: I have a problem with my order number 412889912'\n",
    "chat6 = 'codebasics: My order 412889912 is having an issue, I was charged 300$ when online it says 280$'"
   ]
  },
  {
   "cell_type": "code",
   "execution_count": 3,
   "metadata": {},
   "outputs": [
    {
     "name": "stdout",
     "output_type": "stream",
     "text": [
      "['(123)-567-8912']\n",
      "['abc@xyz.com']\n",
      "['412889912']\n"
     ]
    }
   ],
   "source": [
    "cellPhoneNumber = '(\\(\\d{3}\\)-\\d{3}-\\d{4})|\\d{10}'\n",
    "matches = re.findall(cellPhoneNumber, chat2)\n",
    "print(matches)\n",
    "\n",
    "email = \"[a-z0-9A-Z_]*@[a-z0-9A-Z]*\\.com\"\n",
    "matches = re.findall(email, chat1)\n",
    "print(matches)\n",
    "\n",
    "order = 'order[^\\d]*(\\d*)'\n",
    "matches = re.findall(order, chat4)\n",
    "print(matches)"
   ]
  },
  {
   "cell_type": "code",
   "execution_count": 4,
   "metadata": {},
   "outputs": [],
   "source": [
    "text='''\n",
    "Born\tElon Reeve Musk\n",
    "June 28, 1971 (age 50)\n",
    "Pretoria, Transvaal, South Africa\n",
    "Citizenship\t\n",
    "South Africa (1971–present)\n",
    "Canada (1971–present)\n",
    "United States (2002–present)\n",
    "Education\tUniversity of Pennsylvania (BS, BA)\n",
    "Title\t\n",
    "Founder, CEO and Chief Engineer of SpaceX\n",
    "CEO and product architect of Tesla, Inc.\n",
    "Founder of The Boring Company and X.com (now part of PayPal)\n",
    "Co-founder of Neuralink, OpenAI, and Zip2\n",
    "Spouse(s)\t\n",
    "Justine Wilson\n",
    "​\n",
    "​(m. 2000; div. 2008)​\n",
    "Talulah Riley\n",
    "​\n",
    "​(m. 2010; div. 2012)​\n",
    "​\n",
    "​(m. 2013; div. 2016)\n",
    "'''"
   ]
  },
  {
   "cell_type": "code",
   "execution_count": 5,
   "metadata": {},
   "outputs": [
    {
     "name": "stdout",
     "output_type": "stream",
     "text": [
      "50\n",
      "Elon Reeve Musk\n",
      "June 28, 1971\n",
      "Pretoria, Transvaal, South Africa\n"
     ]
    }
   ],
   "source": [
    "age = 'age (\\d+)'\n",
    "ageMatches = re.findall(age, text)\n",
    "print(ageMatches[0])\n",
    "\n",
    "name = 'Born(.*)'\n",
    "nameMatches = re.findall(name, text)\n",
    "print(nameMatches[0].strip())\n",
    "\n",
    "born = \"Born.*\\n(.*)\\(age \\d*\\)\"\n",
    "bornMatches = re.findall(born, text)\n",
    "print(bornMatches[0].strip())\n",
    "\n",
    "birthPlace = \"Born.*\\n.*\\n(.*\\n)\"\n",
    "birthPlaceMatches = re.findall(birthPlace, text)\n",
    "print(birthPlaceMatches[0].strip())"
   ]
  },
  {
   "cell_type": "code",
   "execution_count": 6,
   "metadata": {},
   "outputs": [],
   "source": [
    "def get_personal_info():\n",
    "    return{\n",
    "        'Age        ' : int (ageMatches[0]),\n",
    "        'Name       ' : nameMatches[0].strip(),\n",
    "        'BirthDate  ' : bornMatches[0].strip(),\n",
    "        'Place      ' : birthPlaceMatches[0].strip()\n",
    "    }"
   ]
  },
  {
   "cell_type": "code",
   "execution_count": 7,
   "metadata": {},
   "outputs": [
    {
     "data": {
      "text/plain": [
       "{'Age        ': 50,\n",
       " 'Name       ': 'Elon Reeve Musk',\n",
       " 'BirthDate  ': 'June 28, 1971',\n",
       " 'Place      ': 'Pretoria, Transvaal, South Africa'}"
      ]
     },
     "execution_count": 7,
     "metadata": {},
     "output_type": "execute_result"
    }
   ],
   "source": [
    "get_personal_info()"
   ]
  }
 ],
 "metadata": {
  "kernelspec": {
   "display_name": "base",
   "language": "python",
   "name": "python3"
  },
  "language_info": {
   "codemirror_mode": {
    "name": "ipython",
    "version": 3
   },
   "file_extension": ".py",
   "mimetype": "text/x-python",
   "name": "python",
   "nbconvert_exporter": "python",
   "pygments_lexer": "ipython3",
   "version": "3.11.7"
  }
 },
 "nbformat": 4,
 "nbformat_minor": 2
}

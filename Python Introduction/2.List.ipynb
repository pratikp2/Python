{
 "cells": [
  {
   "cell_type": "markdown",
   "metadata": {},
   "source": [
    "### 1.List\n",
    "\n",
    "1. List Element access"
   ]
  },
  {
   "cell_type": "code",
   "execution_count": 8,
   "metadata": {},
   "outputs": [
    {
     "name": "stdout",
     "output_type": "stream",
     "text": [
      "7\n",
      "cherry\n",
      "melon\n",
      "['cherry', 'orange', 'kiwi']\n",
      "['orange', 'kiwi', 'melon']\n",
      "['apple', 'banana', 'cherry', 'orange']\n",
      "['cherry', 'orange', 'kiwi', 'melon', 'mango']\n",
      "['apple', 'banana', 'cherry', 'orange', 'kiwi', 'melon', 'mango']\n"
     ]
    }
   ],
   "source": [
    "list1 = [\"apple\", \"banana\", \"cherry\", \"orange\", \"kiwi\", \"melon\", \"mango\"]\n",
    "\n",
    "print(len(list1))              # print list lenght\n",
    "print(list1[2])                # Index wise access\n",
    "print(list1[-2])               # -2 acts as index for second last record\n",
    "print(list1[2:5])              # Print range of the list from 2nd record to 5th record in list\n",
    "print(list1[-4:-1])            # Similarly print records from last 4th to last 1\n",
    "print(list1[:4])               # when 1st range index is empty means start from zero\n",
    "print(list1[2:])               # if second range record is empty means print till last record\n",
    "print(list1)"
   ]
  },
  {
   "cell_type": "markdown",
   "metadata": {},
   "source": [
    "2. List Element Change"
   ]
  },
  {
   "cell_type": "code",
   "execution_count": 12,
   "metadata": {},
   "outputs": [
    {
     "name": "stdout",
     "output_type": "stream",
     "text": [
      "['apple', 'banana', 'cherry', 'orange', 'kiwi', 'melon', 'mango']\n",
      "['apple', 'blackcurrant', 'cherry', 'orange', 'kiwi', 'melon', 'mango']\n",
      "['apple', 'blackcurrant', 'cherry', 'orange', 'kiwi', 'blackcurrant', 'watermelon', 'melon', 'mango']\n",
      "['apple', 'blackcurrant', 'watermelon', 'cherry', 'orange', 'kiwi', 'blackcurrant', 'watermelon', 'melon', 'mango']\n"
     ]
    }
   ],
   "source": [
    "list2 = [\"apple\", \"banana\", \"cherry\", \"orange\", \"kiwi\", \"melon\", \"mango\"]\n",
    "print(list2)\n",
    "\n",
    "list2[1] = \"blackcurrant\"                                   # change via index\n",
    "print(list2)\n",
    "\n",
    "list2[5:3] = [\"blackcurrant\", \"watermelon\"]                 # change multiple indexes at once\n",
    "print(list2)"
   ]
  },
  {
   "cell_type": "markdown",
   "metadata": {},
   "source": [
    "3. List Functions : Modify List"
   ]
  },
  {
   "cell_type": "code",
   "execution_count": 23,
   "metadata": {},
   "outputs": [
    {
     "name": "stdout",
     "output_type": "stream",
     "text": [
      "1 :  ['apple', 'banana', 'cherry', 'orange', 'kiwi', 'melon', 'mango']\n",
      "2 :  ['mango', 'pineapple', 'papaya']\n",
      "3 :  ['apple', 'banana', 'watermelon', 'cherry', 'orange', 'kiwi', 'melon', 'mango']\n",
      "4 :  ['apple', 'banana', 'watermelon', 'cherry', 'orange', 'kiwi', 'melon', 'mango', 'guava']\n",
      "5 :  ['apple', 'banana', 'watermelon', 'cherry', 'orange', 'kiwi', 'melon', 'mango', 'guava', 'mango', 'pineapple', 'papaya']\n",
      "6 :  ['apple', 'watermelon', 'cherry', 'orange', 'kiwi', 'melon', 'mango', 'guava', 'mango', 'pineapple', 'papaya']\n",
      "7 :  ['apple', 'cherry', 'orange', 'kiwi', 'melon', 'mango', 'guava', 'mango', 'pineapple', 'papaya']\n",
      "8 :  ['apple', 'cherry', 'orange', 'kiwi', 'melon', 'mango', 'guava', 'mango', 'pineapple']\n",
      "9 :  ['cherry', 'orange', 'kiwi', 'melon', 'mango', 'guava', 'mango', 'pineapple']\n",
      "10:  []\n"
     ]
    }
   ],
   "source": [
    "list3 = [\"apple\", \"banana\", \"cherry\", \"orange\", \"kiwi\", \"melon\", \"mango\"]\n",
    "print('1 : ',list3)\n",
    "\n",
    "list4 = [\"mango\", \"pineapple\", \"papaya\"]\n",
    "print('2 : ',list4)\n",
    "\n",
    "list3.insert(2, \"watermelon\")                               # insert item at specific location\n",
    "print('3 : ',list3)\n",
    "\n",
    "list3.append(\"guava\")                                       # append a element at last\n",
    "print('4 : ',list3)\n",
    "\n",
    "list3.extend(list4)                                         # To append list item from one index on to another\n",
    "print('5 : ',list3)\n",
    "\n",
    "list3.remove(\"banana\")                                      # remove item from list\n",
    "print('6 : ',list3)\n",
    "\n",
    "list3.pop(1)                                                # pop record from specific index\n",
    "print('7 : ',list3)\n",
    "\n",
    "list3.pop()                                                 # pop last element\n",
    "print('8 : ',list3)\n",
    "\n",
    "del list3[0]                                                # delete specific element with index\n",
    "print('9 : ',list3)\n"
   ]
  },
  {
   "cell_type": "markdown",
   "metadata": {},
   "source": [
    "4. List Functions : Operations on List"
   ]
  },
  {
   "cell_type": "code",
   "execution_count": 27,
   "metadata": {},
   "outputs": [
    {
     "name": "stdout",
     "output_type": "stream",
     "text": [
      "1:  ['orange', 'melon', 'banana', 'cherry', 'kiwi', 'apple', 'mango']\n",
      "2:  ['apple', 'banana', 'cherry', 'kiwi', 'mango', 'melon', 'orange']\n",
      "3:  ['orange', 'melon', 'mango', 'kiwi', 'cherry', 'banana', 'apple']\n",
      "4:  ['apple', 'banana', 'cherry', 'kiwi', 'mango', 'melon', 'orange']\n",
      "2 :  []\n"
     ]
    }
   ],
   "source": [
    "list5 = [\"orange\", \"melon\", \"banana\", \"cherry\", \"kiwi\", \"apple\", \"mango\"]\n",
    "print('1: ',list5)\n",
    "\n",
    "list5.sort()                                                # Sort list\n",
    "print('2: ',list5)                                          \n",
    "\n",
    "list5.sort(reverse = True)                                  # Sort list in reverse order\n",
    "print('3: ',list5)\n",
    "\n",
    "list5.reverse()                                             # Reverse List\n",
    "print('4: ',list5)\n",
    "\n",
    "list5.clear()                                               # delete all elements from list\n",
    "print('2 : ',list5)"
   ]
  },
  {
   "cell_type": "markdown",
   "metadata": {},
   "source": [
    "### Method Description\n",
    "\n",
    "append()\tAdds an element at the end of the list\n",
    "\n",
    "clear()\t    Removes all the elements from the list\n",
    "\n",
    "copy()\t    Returns a copy of the list\n",
    "\n",
    "count()\t    Returns the number of elements with the specified value\n",
    "\n",
    "extend()\tAdd the elements of a list (or any iterable), to the end of the current list\n",
    "\n",
    "index()\t    Returns the index of the first element with the specified value\n",
    "\n",
    "insert()\tAdds an element at the specified position\n",
    "\n",
    "pop()\t    Removes the element at the specified position\n",
    "\n",
    "remove()\tRemoves the item with the specified value\n",
    "\n",
    "reverse()\tReverses the order of the list\n",
    "\n",
    "sort()\t    Sorts the list"
   ]
  }
 ],
 "metadata": {
  "kernelspec": {
   "display_name": "base",
   "language": "python",
   "name": "python3"
  },
  "language_info": {
   "codemirror_mode": {
    "name": "ipython",
    "version": 3
   },
   "file_extension": ".py",
   "mimetype": "text/x-python",
   "name": "python",
   "nbconvert_exporter": "python",
   "pygments_lexer": "ipython3",
   "version": "3.11.5"
  }
 },
 "nbformat": 4,
 "nbformat_minor": 2
}

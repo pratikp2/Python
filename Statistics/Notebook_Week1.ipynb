{
 "cells": [
  {
   "cell_type": "markdown",
   "metadata": {
    "id": "na3XXQqwxk4n"
   },
   "source": [
    "# **Concepts Covered:**\n",
    "\n",
    "- <a href = #link1>Binomial Distribution</a>\n",
    "- <a href = #link2>Continuous Uniform Distribution</a>\n",
    "- <a href = #link3>Normal Distribution</a>\n",
    "\n",
    "\n",
    "\n"
   ]
  },
  {
   "cell_type": "markdown",
   "metadata": {
    "id": "Lc9FElXElv_G"
   },
   "source": [
    "# <a name='link1'>**Binomial Distribution**</a>"
   ]
  },
  {
   "cell_type": "markdown",
   "metadata": {
    "id": "akluEr_i2s6H"
   },
   "source": [
    "## Problem statement \n",
    "80% of all the visitors to Lavista Museum end up buying souvenirs from the souvenir shop at the Museum. On the coming Sunday, if a random sample of 10 visitors is picked:\n",
    "\n",
    " 1. Find the probability that every visitor will end up buying from the souvenir shop\n",
    " 2. Find the probability that a maximum of 7 visitors will buy souvenirs from the souvenir shop\n",
    "\n",
    "Let's check first whether we satisfy the assumptions of the binomial distribution.\n",
    "*  There are only two possible outcomes (success or failure) for each trial – A visitor will buy souvenirs from the souvenir shop or not (yes or no).\n",
    "* Number of trials (n) is fixed - There are 10 visitors in the sample.\n",
    "* Each trial is independent of the other trials - It is reasonable to assume that the buying activity of visitors is independent.\n",
    "* The probability of success (p) is the same for each trial - The probability of success for each visitor is 0.8."
   ]
  },
  {
   "cell_type": "markdown",
   "metadata": {
    "id": "ai6e1N6TF_CH"
   },
   "source": [
    "### Let's import the libraries "
   ]
  },
  {
   "cell_type": "code",
   "execution_count": 1,
   "metadata": {
    "id": "aYQeekfS3tc3"
   },
   "outputs": [],
   "source": [
    "# import the important packages\n",
    "import pandas as pd  # library used for data manipulation and analysis\n",
    "import numpy as np  # library used for working with arrays\n",
    "import matplotlib.pyplot as plt  # library for plots and visualizations\n",
    "import seaborn as sns  # library for visualizations\n",
    "\n",
    "%matplotlib inline\n",
    "\n",
    "import scipy.stats as stats  # this library contains a large number of probability distributions as well as a growing library of statistical functions"
   ]
  },
  {
   "cell_type": "markdown",
   "metadata": {
    "id": "ShfWrUOZUST6"
   },
   "source": [
    "### Let's estimate the probability distribution of visitors"
   ]
  },
  {
   "cell_type": "code",
   "execution_count": 2,
   "metadata": {
    "id": "Hx9QgtUmCo6X"
   },
   "outputs": [],
   "source": [
    "# declare the sample size in variable n which represents the number of visitors selected randomly\n",
    "n = 10"
   ]
  },
  {
   "cell_type": "code",
   "execution_count": 3,
   "metadata": {
    "id": "KYXCeHT1DNzD"
   },
   "outputs": [],
   "source": [
    "# declare p which represents the probability of success, i.e., the probability that a visitor will end up buying a souvenir\n",
    "p = 0.80"
   ]
  },
  {
   "cell_type": "code",
   "execution_count": 4,
   "metadata": {
    "colab": {
     "base_uri": "https://localhost:8080/"
    },
    "id": "erPch6FYDT5D",
    "outputId": "68d01f3d-f9f8-486e-b1c7-61cf07f2a370"
   },
   "outputs": [
    {
     "data": {
      "text/plain": [
       "array([ 0,  1,  2,  3,  4,  5,  6,  7,  8,  9, 10])"
      ]
     },
     "execution_count": 4,
     "metadata": {},
     "output_type": "execute_result"
    }
   ],
   "source": [
    "# declare different possible number of visitors selected in a numpy array\n",
    "k = np.arange(0,11)\n",
    "k"
   ]
  },
  {
   "cell_type": "markdown",
   "metadata": {
    "id": "_SPeCd1AHEY9"
   },
   "source": [
    "The probability function of Binomial Distribution provides the probability for  x  number of successes from n trials where  p is the probability of success   \n",
    "\n",
    ">$P(X=x)= {n\\choose x}p^x(1-p)^{n-x}$\n",
    "\n",
    "\n",
    "Here, we know that:\n",
    "\n",
    "* n ( number of visitors selected randomly ) = 10\n",
    "* p ( probability of success i.e., the probability that a visitor will end up buying a souvenir) = 0.80\n",
    "* q ( probability of failure i.e., the probability that a visitor will not end up buying a souvenir) = 1 - 0.80 = 0.20\n",
    "* x ( number of successes ) = 10\n",
    "\n",
    "\n",
    "We will use binom.pmf() to calculate this probability function which provides the probability for the number of visitors (out of n=10) that will end up buying souvenirs from the souvenir shop."
   ]
  },
  {
   "cell_type": "code",
   "execution_count": 5,
   "metadata": {
    "id": "c9ROgUQTDetd"
   },
   "outputs": [],
   "source": [
    "# import the required function\n",
    "from scipy.stats import binom\n",
    "\n",
    "# use the binom.pmf() function to generate the probability distribution\n",
    "binomial = binom.pmf(k=k, n=n, p=p)"
   ]
  },
  {
   "cell_type": "code",
   "execution_count": 6,
   "metadata": {
    "colab": {
     "base_uri": "https://localhost:8080/"
    },
    "id": "to7lvEKCD7Aj",
    "outputId": "45f584ba-90d8-4475-ecf4-b973ccb8675a"
   },
   "outputs": [
    {
     "data": {
      "text/plain": [
       "array([1.02400000e-07, 4.09600000e-06, 7.37280000e-05, 7.86432000e-04,\n",
       "       5.50502400e-03, 2.64241152e-02, 8.80803840e-02, 2.01326592e-01,\n",
       "       3.01989888e-01, 2.68435456e-01, 1.07374182e-01])"
      ]
     },
     "execution_count": 6,
     "metadata": {},
     "output_type": "execute_result"
    }
   ],
   "source": [
    "binomial"
   ]
  },
  {
   "cell_type": "markdown",
   "metadata": {
    "id": "tGF_ynBaISnE"
   },
   "source": [
    "As you can see **binomial** is the array of probabilities for different number of successes. Let us visualize the same in the following plot."
   ]
  },
  {
   "cell_type": "code",
   "execution_count": 7,
   "metadata": {
    "colab": {
     "base_uri": "https://localhost:8080/",
     "height": 297
    },
    "id": "V1ogSei5D7Ik",
    "outputId": "c1dbba93-7b24-4449-ba4c-f077a5893756"
   },
   "outputs": [
    {
     "data": {
      "image/png": "[encoded data removed]",
      "text/plain": [
       "<Figure size 432x288 with 1 Axes>"
      ]
     },
     "metadata": {
      "needs_background": "light"
     },
     "output_type": "display_data"
    }
   ],
   "source": [
    "# plot the distribution\n",
    "plt.bar(k, binomial) # make a bar plot\n",
    "plt.title(\"Binomial: n=%i , p=%.2f\" % (n, p), fontsize=15) # set the title\n",
    "plt.xlabel(\"Number of Successes\") # set the x-axis label\n",
    "plt.ylabel(\"Probability of Successes\") # set the y-axis label\n",
    "plt.show() # display the plot"
   ]
  },
  {
   "cell_type": "markdown",
   "metadata": {
    "id": "_ueGwQYmIrL_"
   },
   "source": [
    "The last element of this **binomial** array represents the probability when the number of successes is 10 (which means that all 10 visitors (out of 10 selected randomly) will buy souvenirs from the souvenir shop)"
   ]
  },
  {
   "cell_type": "code",
   "execution_count": 8,
   "metadata": {
    "colab": {
     "base_uri": "https://localhost:8080/"
    },
    "id": "lvhb5VYoEiDO",
    "outputId": "c3fb324d-b6f9-4e81-cada-2cfc3f355cb9"
   },
   "outputs": [
    {
     "data": {
      "text/plain": [
       "0.10737418240000006"
      ]
     },
     "execution_count": 8,
     "metadata": {},
     "output_type": "execute_result"
    }
   ],
   "source": [
    "binomial[10]"
   ]
  },
  {
   "cell_type": "markdown",
   "metadata": {
    "id": "WmjpVsHNIY8L"
   },
   "source": [
    "The above probability shows that the probability of exactly 10 successes is  ~ 0.11.\n",
    "\n",
    "Now, we are interested in knowing the probability of at most 7 successes which means what is the probability that out of 10 randomly selected visitors, a maximum of 7 visitors will buy souvenirs from the souvenir shop.\n",
    "\n",
    "Here, we need to calculate the probability for P(X<=7). CDF is used to calculate the cumulative probability.\n",
    "\n",
    "\n",
    "\n",
    "**CDF:** of a Random variable (X) is the probability that X  will take the value less than or equal to x. It can be represented mathematically as below.\n",
    "\n",
    ">$F_X(x) = P(X\\leq x)$\n",
    "\n",
    "In our case, Random Variable (X) is the number of visitors who will buy souvenirs from the souvenir shop.\n",
    "\n",
    "$P(X\\leq 7)$\n"
   ]
  },
  {
   "cell_type": "code",
   "execution_count": 9,
   "metadata": {
    "colab": {
     "base_uri": "https://localhost:8080/",
     "height": 297
    },
    "id": "5KCXHQNUghBI",
    "outputId": "26973f52-3684-46fd-c139-b96766f6ad19"
   },
   "outputs": [
    {
     "data": {
      "image/png": "[encoded data removed]",
      "text/plain": [
       "<Figure size 432x288 with 1 Axes>"
      ]
     },
     "metadata": {
      "needs_background": "light"
     },
     "output_type": "display_data"
    }
   ],
   "source": [
    "# plot the probability distribution\n",
    "# We are plotting the distributions here to better visualize the calculations.\n",
    "# Of course you do not 'need' to create the following visualization to answer the question above.\n",
    "# You can directly use the cdf function for probability calculations.\n",
    "barl = plt.bar(k, binomial) # make a bar plot\n",
    "plt.title(\"Binomial: n=%i , p=%.2f\" % (n, p), fontsize=15) # set the title\n",
    "plt.xlabel(\"Number of Successes\") # set the x-axis label\n",
    "plt.ylabel(\"Probability of Successes\") # set the y-axis label\n",
    "for i in range(0, 8):\n",
    "    barl[i].set_color(\"r\") # color the bars in red where number of successes is less than 8\n",
    "plt.show() # display the plot"
   ]
  },
  {
   "cell_type": "markdown",
   "metadata": {
    "id": "zmYRVcQsgo7e"
   },
   "source": [
    "In the above graph, the red region represents P(X<=7).\n",
    "Let's calculate the probability that out of 10 randomly selected visitors, a maximum of 7 will buy souvenirs from the souvenir shop. We will use binom.cdf() for this."
   ]
  },
  {
   "cell_type": "code",
   "execution_count": 10,
   "metadata": {
    "colab": {
     "base_uri": "https://localhost:8080/"
    },
    "id": "ijlJm_BGJec0",
    "outputId": "c70b5d6f-cf92-4a17-f13f-747f6dc2e95a"
   },
   "outputs": [
    {
     "data": {
      "text/plain": [
       "0.32220047359999987"
      ]
     },
     "execution_count": 10,
     "metadata": {},
     "output_type": "execute_result"
    }
   ],
   "source": [
    "# calculate cdf\n",
    "binom.cdf(k=7, n=n, p=p)"
   ]
  },
  {
   "cell_type": "markdown",
   "metadata": {
    "id": "0UlaBxDXEioT"
   },
   "source": [
    "### Conclusion: \n",
    "\n",
    "There is a 10.74% chance that every visitor will end up buying souvenirs from the souvenir shop.\n",
    "\n",
    "There is q 32.22% chance that a maximum of 7 visitors out of 10 will buy souvenirs from the souvenir shop."
   ]
  },
  {
   "cell_type": "markdown",
   "metadata": {
    "id": "3yuNgVeW2tbn"
   },
   "source": [
    "Let's try to change the probability of success (probability that each visitor will buy souvenirs from the souvenir shop) to different values like 60%,70%,90%,95% and visualize how the shape of the distribution changes."
   ]
  },
  {
   "cell_type": "code",
   "execution_count": 11,
   "metadata": {
    "colab": {
     "base_uri": "https://localhost:8080/",
     "height": 297
    },
    "id": "m83o5m7Tleke",
    "outputId": "314a71fb-e32d-4dc7-a311-574a759394d8"
   },
   "outputs": [
    {
     "data": {
      "image/png": "[encoded data removed]",
      "text/plain": [
       "<Figure size 1080x288 with 3 Axes>"
      ]
     },
     "metadata": {
      "needs_background": "light"
     },
     "output_type": "display_data"
    }
   ],
   "source": [
    "plt.figure(figsize=(15, 4))\n",
    "\n",
    "plt.subplot(131)\n",
    "binomial_70 = binom.pmf(k, n, p=0.7)\n",
    "\n",
    "# plot the distribution of the same\n",
    "plt.bar(k, binomial_70)\n",
    "plt.title(\"p=%.2f\" % (0.7), fontsize=15)\n",
    "plt.xlabel(\"Number of Successes\")\n",
    "plt.ylabel(\"Probability of Successes\")\n",
    "\n",
    "plt.subplot(132)\n",
    "binomial_80 = binom.pmf(k, n, p=0.8)\n",
    "\n",
    "# plot the distribution of the same\n",
    "plt.bar(k, binomial_80)\n",
    "plt.title(\"p=%.2f\" % (0.8), fontsize=15)\n",
    "plt.xlabel(\"Number of Successes\")\n",
    "plt.ylabel(\"Probability of Successes\")\n",
    "\n",
    "plt.subplot(133)\n",
    "binomial_90 = binom.pmf(k, n, p=0.9)\n",
    "\n",
    "# plot the distribution of the same\n",
    "plt.bar(k, binomial_90)\n",
    "plt.title(\"p=%.2f\" % (0.9), fontsize=15)\n",
    "plt.xlabel(\"Number of Successes\")\n",
    "plt.ylabel(\"Probability of Successes\")\n",
    "\n",
    "plt.tight_layout(w_pad=5)"
   ]
  },
  {
   "cell_type": "markdown",
   "metadata": {
    "id": "-eqlw5Nspaij"
   },
   "source": [
    "### Conclusion:\n",
    "\n",
    "It is clear from the above plot that the shape of the distribution changes as the value of p (probability of success) changes."
   ]
  },
  {
   "cell_type": "markdown",
   "metadata": {
    "id": "Fnh7bNt1pUBD"
   },
   "source": [
    "\n",
    "# <a name='link2'>**Continuous Uniform Distribution**</a>"
   ]
  },
  {
   "cell_type": "markdown",
   "metadata": {
    "id": "09HdAX6HH1zm"
   },
   "source": [
    "### Problem statement\n",
    "\n",
    "\n",
    " IT industry records the amount of time a software engineer needs to fix a  bug in the initial phase of software development in 'debugging.csv'.\n",
    "\n",
    "Let\n",
    "\n",
    "X = Time needed to fix bugs\n",
    "\n",
    "\n",
    "X is a continuous random variable. Let's see the distribution of X and answer the below questions.\n",
    "\n",
    "\n",
    "1. Find the probability that a randomly selected software debugging requires less than three hours\n",
    "\n",
    "2. Find the probability that a randomly selected software debugging requires more than two hours\n",
    "\n",
    "3. Find the 50th percentile of the software debugging time\n"
   ]
  },
  {
   "cell_type": "markdown",
   "metadata": {
    "id": "rxZypF7VV-fC"
   },
   "source": [
    "\n",
    "### Reading the Data into the Dataframe"
   ]
  },
  {
   "cell_type": "code",
   "execution_count": 12,
   "metadata": {
    "colab": {
     "base_uri": "https://localhost:8080/",
     "height": 204
    },
    "id": "6MAsEtn8euWu",
    "outputId": "3978493a-3f32-4203-abe6-f192a831f991"
   },
   "outputs": [
    {
     "data": {
      "text/html": [
       "<div>\n",
       "<style scoped>\n",
       "    .dataframe tbody tr th:only-of-type {\n",
       "        vertical-align: middle;\n",
       "    }\n",
       "\n",
       "    .dataframe tbody tr th {\n",
       "        vertical-align: top;\n",
       "    }\n",
       "\n",
       "    .dataframe thead th {\n",
       "        text-align: right;\n",
       "    }\n",
       "</style>\n",
       "<table border=\"1\" class=\"dataframe\">\n",
       "  <thead>\n",
       "    <tr style=\"text-align: right;\">\n",
       "      <th></th>\n",
       "      <th>Bug ID</th>\n",
       "      <th>Time Taken to fix the bug</th>\n",
       "    </tr>\n",
       "  </thead>\n",
       "  <tbody>\n",
       "    <tr>\n",
       "      <th>0</th>\n",
       "      <td>12986</td>\n",
       "      <td>2.42</td>\n",
       "    </tr>\n",
       "    <tr>\n",
       "      <th>1</th>\n",
       "      <td>12987</td>\n",
       "      <td>2.03</td>\n",
       "    </tr>\n",
       "    <tr>\n",
       "      <th>2</th>\n",
       "      <td>12988</td>\n",
       "      <td>2.74</td>\n",
       "    </tr>\n",
       "    <tr>\n",
       "      <th>3</th>\n",
       "      <td>12989</td>\n",
       "      <td>3.21</td>\n",
       "    </tr>\n",
       "    <tr>\n",
       "      <th>4</th>\n",
       "      <td>12990</td>\n",
       "      <td>3.40</td>\n",
       "    </tr>\n",
       "  </tbody>\n",
       "</table>\n",
       "</div>"
      ],
      "text/plain": [
       "   Bug ID  Time Taken to fix the bug\n",
       "0   12986                       2.42\n",
       "1   12987                       2.03\n",
       "2   12988                       2.74\n",
       "3   12989                       3.21\n",
       "4   12990                       3.40"
      ]
     },
     "execution_count": 12,
     "metadata": {},
     "output_type": "execute_result"
    }
   ],
   "source": [
    "debugging = pd.read_csv(\"debugging.csv\")\n",
    "debugging.head()"
   ]
  },
  {
   "cell_type": "markdown",
   "metadata": {
    "id": "jMann_MBgiuJ"
   },
   "source": [
    "Let's plot the histogram of data along with the PDF of uniform distribution using the parameters minimum time required and maximum time required for bug fixing."
   ]
  },
  {
   "cell_type": "code",
   "execution_count": 13,
   "metadata": {
    "colab": {
     "base_uri": "https://localhost:8080/",
     "height": 295
    },
    "id": "kS-9PRtOf3N7",
    "outputId": "c07afd41-e3de-467b-8394-e68375c2705d"
   },
   "outputs": [
    {
     "data": {
      "image/png": "[encoded data removed]",
      "text/plain": [
       "<Figure size 432x288 with 1 Axes>"
      ]
     },
     "metadata": {
      "needs_background": "light"
     },
     "output_type": "display_data"
    }
   ],
   "source": [
    "# visualize the distribution of the time needed for bug fixing\n",
    "plt.hist(debugging[\"Time Taken to fix the bug\"], density=True)\n",
    "plt.axhline(1 / 4, color=\"red\")\n",
    "plt.xlabel(\"Time required for bug fixing\")\n",
    "plt.ylabel(\"Probability\")\n",
    "plt.title(\"Data Distribution\")\n",
    "plt.show()"
   ]
  },
  {
   "cell_type": "markdown",
   "metadata": {
    "id": "W0WEldmPnsNy"
   },
   "source": [
    "Another way to recognize a uniform distribution in your data is to look at a density plot. We will use displot of seaborn library to visualize the distribution of time needed for bug fixing."
   ]
  },
  {
   "cell_type": "code",
   "execution_count": 14,
   "metadata": {
    "colab": {
     "base_uri": "https://localhost:8080/",
     "height": 369
    },
    "id": "Y8JNEytSnx5G",
    "outputId": "cdd1b769-0b6a-4909-df13-d4b76cef49e9"
   },
   "outputs": [
    {
     "data": {
      "image/png": "[encoded data removed]",
      "text/plain": [
       "<Figure size 360x360 with 1 Axes>"
      ]
     },
     "metadata": {
      "needs_background": "light"
     },
     "output_type": "display_data"
    }
   ],
   "source": [
    "# Density plot of time taken to fix the bug\n",
    "sns.displot(debugging[\"Time Taken to fix the bug\"], kde=True)\n",
    "plt.show()"
   ]
  },
  {
   "cell_type": "markdown",
   "metadata": {
    "id": "6l8KaNvqnUFr"
   },
   "source": [
    "**Insight**: As you can see from the above plot that all the values between 1 and 5 are having almost equal probability, we are going to use continuous uniform distribution. We need to decide the endpoints. Here, endpoints are 1 and 5.\n",
    "\n",
    "X ~ U(1, 5)"
   ]
  },
  {
   "cell_type": "code",
   "execution_count": 15,
   "metadata": {
    "id": "2fT7CSlGuTbq"
   },
   "outputs": [],
   "source": [
    "# import the required function\n",
    "from scipy.stats import uniform\n",
    "\n",
    "# use the uniform.pmf() function to generate the probability distribution\n",
    "x = np.linspace(1, 5, 50)\n",
    "probs = uniform.pdf(x, loc=1, scale=4)"
   ]
  },
  {
   "cell_type": "markdown",
   "metadata": {
    "id": "oOofOLsnp4PZ"
   },
   "source": [
    "**Find the probability that a randomly selected software debugging requires a maximum time of 3 hours** \n",
    "\n",
    "**CDF:** of a random variable (X) is the probability that X  will take the value less than or equal to x. It can be represented mathematically as below.\n",
    "\n",
    ">$F_X(x) = P(X\\leq x)$\n",
    "\n",
    "\n",
    "In our case, random variable (X) is the number of hours.\n",
    "\n",
    "$ P(X\\leq 3)$"
   ]
  },
  {
   "cell_type": "code",
   "execution_count": 16,
   "metadata": {
    "colab": {
     "base_uri": "https://localhost:8080/",
     "height": 295
    },
    "id": "NZ3X6Ay0YFgv",
    "outputId": "1dea6a13-d28e-4fcf-8928-e4ac148670db"
   },
   "outputs": [
    {
     "data": {
      "image/png": "[encoded data removed]",
      "text/plain": [
       "<Figure size 432x288 with 1 Axes>"
      ]
     },
     "metadata": {
      "needs_background": "light"
     },
     "output_type": "display_data"
    }
   ],
   "source": [
    "# plot the probability distribution\n",
    "# We are plotting the distributions here to better visualize the calculations.\n",
    "# Of course you do not 'need' to create the following visualization to answer the question above.\n",
    "# You can directly use the cdf function for probability calculations.\n",
    "x1 = np.linspace(1, 3, 25)\n",
    "plt.plot(x, probs)\n",
    "plt.fill_between(x, probs)\n",
    "plt.fill_between(x1, uniform.pdf(x=x1, loc=1, scale=4), color=\"r\")\n",
    "plt.xlabel(\"Time required for bug fixing\")\n",
    "plt.ylabel(\"Probability\")\n",
    "plt.title(\"Continuous Uniform Distribution: X ~ U(1,5)\")\n",
    "plt.show()"
   ]
  },
  {
   "cell_type": "markdown",
   "metadata": {
    "id": "jsO4QpfwZcwt"
   },
   "source": [
    "In the above graph, the red region represents P(X<=3). Let's calculate the probability that that a randomly selected software debugging requires a maximum time of 3 hours. We will use uniform.cdf() for this."
   ]
  },
  {
   "cell_type": "code",
   "execution_count": 17,
   "metadata": {
    "colab": {
     "base_uri": "https://localhost:8080/"
    },
    "id": "fj9AwdyMpNUC",
    "outputId": "cd2d5788-178c-4e09-87e5-4141b88de145"
   },
   "outputs": [
    {
     "data": {
      "text/plain": [
       "0.5"
      ]
     },
     "execution_count": 17,
     "metadata": {},
     "output_type": "execute_result"
    }
   ],
   "source": [
    "uniform.cdf(x=3, loc=1, scale=4)"
   ]
  },
  {
   "cell_type": "markdown",
   "metadata": {
    "id": "XpJfn4AHnGni"
   },
   "source": [
    "\n",
    "**Find the probability that a randomly selected software bug fixing requires more than two hours.**\n",
    "\n",
    "$ P(X>2)$"
   ]
  },
  {
   "cell_type": "code",
   "execution_count": 18,
   "metadata": {
    "colab": {
     "base_uri": "https://localhost:8080/",
     "height": 295
    },
    "id": "lYY7xoc2ZsHO",
    "outputId": "dc5d31b5-1a5a-4fad-ed98-725a46ec045a"
   },
   "outputs": [
    {
     "data": {
      "image/png": "[encoded data removed]",
      "text/plain": [
       "<Figure size 432x288 with 1 Axes>"
      ]
     },
     "metadata": {
      "needs_background": "light"
     },
     "output_type": "display_data"
    }
   ],
   "source": [
    "# plot the probability distribution\n",
    "# We are plotting the distributions here to better visualize the calculations.\n",
    "# Of course you do not 'need' to create the following visualization to answer the question above.\n",
    "# You can directly use the cdf function for probability calculations.\n",
    "x1 = np.linspace(2, 5, 20)\n",
    "plt.plot(x, probs)\n",
    "plt.fill_between(x, probs)\n",
    "plt.fill_between(x1, uniform.pdf(x=x1, loc=1, scale=4), color=\"r\")\n",
    "plt.xlabel(\"Time required for bug fixing\")\n",
    "plt.ylabel(\"Probability\")\n",
    "plt.title(\"Continuous Uniform Distribution: X ~ U(1,5)\")\n",
    "plt.show()"
   ]
  },
  {
   "cell_type": "markdown",
   "metadata": {
    "id": "L6nuGX3_hszt"
   },
   "source": [
    "In the above graph, the reg region represent P(X>2). Let's calculate the probability that that that a randomly selected software debugging requires more than two hours. We will use uniform.cdf() for this."
   ]
  },
  {
   "cell_type": "code",
   "execution_count": 19,
   "metadata": {
    "colab": {
     "base_uri": "https://localhost:8080/"
    },
    "id": "OyIT9XaCMwyS",
    "outputId": "752a5a4b-1935-4891-933a-d9f5cbcba716"
   },
   "outputs": [
    {
     "data": {
      "text/plain": [
       "0.75"
      ]
     },
     "execution_count": 19,
     "metadata": {},
     "output_type": "execute_result"
    }
   ],
   "source": [
    "1 - uniform.cdf(x=2, loc=1, scale=4)"
   ]
  },
  {
   "cell_type": "markdown",
   "metadata": {
    "id": "pNyDh5HIpUSZ"
   },
   "source": [
    "**Let's calculate the 50th percentile of software debugging time.**\n",
    "\n",
    "ppf(): It is used to calculate the percentile point given probability. It works opposite of cdf()"
   ]
  },
  {
   "cell_type": "code",
   "execution_count": 20,
   "metadata": {
    "colab": {
     "base_uri": "https://localhost:8080/"
    },
    "id": "txsUODi0pMty",
    "outputId": "591da85a-a5dc-4739-8108-89f69bf1bfb9"
   },
   "outputs": [
    {
     "data": {
      "text/plain": [
       "3.0"
      ]
     },
     "execution_count": 20,
     "metadata": {},
     "output_type": "execute_result"
    }
   ],
   "source": [
    "uniform.ppf(q=0.5, loc=1, scale=4)"
   ]
  },
  {
   "cell_type": "markdown",
   "metadata": {
    "id": "1VMrZcEPAedz"
   },
   "source": [
    "### Conclusion:  \n",
    "\n",
    "There is a 50% chance that a randomly selected software debugging requires less than three hours.\n",
    "\n",
    "There is a 75% chance that a randomly selected software debugging requires more than two hours.\n",
    "\n",
    "The 50th percentile of the software debugging time is 3 hours."
   ]
  },
  {
   "cell_type": "markdown",
   "metadata": {
    "id": "QUnO4uNt6YLO"
   },
   "source": [
    "# <a name='link3'>**Normal Distribution**</a>"
   ]
  },
  {
   "cell_type": "markdown",
   "metadata": {
    "id": "0R8rRXiHOdAm"
   },
   "source": [
    "## Problem statement\n",
    "\n",
    "A testing agency wants to analyze the complexity of SAT Exam 2020. They have collected the SAT scores of 1000 students in \"sat_score.csv\". Let's answer some of the questions that will help to decide the complexity of SAT exam 2020.\n",
    "\n",
    "\n",
    " \n",
    "1. Calculate the probability that a student will score less than 800 in SAT exam\n",
    "2. Calculate the probability that a student will score more than 1300 in SAT exam\n",
    "3. Calculate the minimum marks a student must score in order to secure 90th percentile\n",
    "4. Calculate the minimum marks a student must score in order to be in the top 5%\n",
    "\n"
   ]
  },
  {
   "cell_type": "markdown",
   "metadata": {
    "id": "-4qW1rxRREvT"
   },
   "source": [
    "### Reading the Data into the Dataframe"
   ]
  },
  {
   "cell_type": "code",
   "execution_count": 21,
   "metadata": {
    "colab": {
     "base_uri": "https://localhost:8080/",
     "height": 204
    },
    "id": "v9AABdoqSiP7",
    "outputId": "63393d66-8c30-4e88-fee6-689269b0d929"
   },
   "outputs": [
    {
     "data": {
      "text/html": [
       "<div>\n",
       "<style scoped>\n",
       "    .dataframe tbody tr th:only-of-type {\n",
       "        vertical-align: middle;\n",
       "    }\n",
       "\n",
       "    .dataframe tbody tr th {\n",
       "        vertical-align: top;\n",
       "    }\n",
       "\n",
       "    .dataframe thead th {\n",
       "        text-align: right;\n",
       "    }\n",
       "</style>\n",
       "<table border=\"1\" class=\"dataframe\">\n",
       "  <thead>\n",
       "    <tr style=\"text-align: right;\">\n",
       "      <th></th>\n",
       "      <th>student_id</th>\n",
       "      <th>score</th>\n",
       "    </tr>\n",
       "  </thead>\n",
       "  <tbody>\n",
       "    <tr>\n",
       "      <th>0</th>\n",
       "      <td>1</td>\n",
       "      <td>1018</td>\n",
       "    </tr>\n",
       "    <tr>\n",
       "      <th>1</th>\n",
       "      <td>2</td>\n",
       "      <td>1218</td>\n",
       "    </tr>\n",
       "    <tr>\n",
       "      <th>2</th>\n",
       "      <td>3</td>\n",
       "      <td>611</td>\n",
       "    </tr>\n",
       "    <tr>\n",
       "      <th>3</th>\n",
       "      <td>4</td>\n",
       "      <td>723</td>\n",
       "    </tr>\n",
       "    <tr>\n",
       "      <th>4</th>\n",
       "      <td>5</td>\n",
       "      <td>541</td>\n",
       "    </tr>\n",
       "  </tbody>\n",
       "</table>\n",
       "</div>"
      ],
      "text/plain": [
       "   student_id  score\n",
       "0           1   1018\n",
       "1           2   1218\n",
       "2           3    611\n",
       "3           4    723\n",
       "4           5    541"
      ]
     },
     "execution_count": 21,
     "metadata": {},
     "output_type": "execute_result"
    }
   ],
   "source": [
    "sat_score = pd.read_csv(\"sat_score.csv\")\n",
    "sat_score.head()"
   ]
  },
  {
   "cell_type": "markdown",
   "metadata": {
    "id": "dQi7JSQgSRAH"
   },
   "source": [
    "### Calculating the mean and standard deviation (parameters) of the SAT score \n",
    "\n"
   ]
  },
  {
   "cell_type": "code",
   "execution_count": 22,
   "metadata": {
    "colab": {
     "base_uri": "https://localhost:8080/"
    },
    "id": "9-SdkGCiSuug",
    "outputId": "9881559f-847d-410b-9e13-21bc087e03c5"
   },
   "outputs": [
    {
     "name": "stdout",
     "output_type": "stream",
     "text": [
      "The estimated mean is 1007.46\n",
      "The estimated standard deviation is 204.43\n"
     ]
    }
   ],
   "source": [
    "# import the required function\n",
    "from scipy.stats import norm\n",
    "\n",
    "# estimate the mean and standard deviation of the SAT scores data\n",
    "mu = sat_score[\"score\"].mean()\n",
    "sigma = sat_score[\"score\"].std()\n",
    "print(\"The estimated mean is\", round(mu, 2))\n",
    "print(\"The estimated standard deviation is\", round(sigma, 2))"
   ]
  },
  {
   "cell_type": "markdown",
   "metadata": {
    "id": "-LfgewK8S_eW"
   },
   "source": [
    "### Plotting the Distribution \n",
    "\n",
    "It  will help us analyze the shape of the data and visualize the PDF of normal distribution using the parameters (mean (mu) and Standard deviation (sigma)) from the data."
   ]
  },
  {
   "cell_type": "code",
   "execution_count": 23,
   "metadata": {
    "colab": {
     "base_uri": "https://localhost:8080/",
     "height": 295
    },
    "id": "vOHuwBtCTF84",
    "outputId": "e8dfe2f9-388c-46ac-e36e-50dfcce9d63d"
   },
   "outputs": [
    {
     "data": {
      "image/png": "[encoded data removed]",
      "text/plain": [
       "<Figure size 432x288 with 1 Axes>"
      ]
     },
     "metadata": {
      "needs_background": "light"
     },
     "output_type": "display_data"
    }
   ],
   "source": [
    "# calculate the pdf of SAT scores using norm.pdf()\n",
    "density = pd.DataFrame() # create an empty DataFrame\n",
    "density[\"x\"] = np.linspace(\n",
    "    sat_score[\"score\"].min(), sat_score[\"score\"].max(), 100\n",
    ") # create an array of 100 numbers in between the min and max score range and store it in the first column of the empty DataFrame\n",
    "density[\"pdf\"] = norm.pdf(density[\"x\"], mu, sigma) # calculate the pdf() of the created numbers and store it in another column named 'pdf'\n",
    "\n",
    "fig, ax = plt.subplots() # create the subplot\n",
    "sns.histplot(sat_score[\"score\"], ax=ax, kde=True, stat=\"density\") # plot the distribution of data using histogram\n",
    "ax.plot(density[\"x\"], density[\"pdf\"], color=\"red\") # plot the pdf of the normal distribution\n",
    "plt.title(\"Normal Distribution\") # set the title\n",
    "plt.show() # display the plot"
   ]
  },
  {
   "cell_type": "markdown",
   "metadata": {
    "id": "TaxsnyemW_XO"
   },
   "source": [
    "**Insight:**  As you can see in the above plot, there are two curves red and blue. Blue curve represents the shape of data distribution and the red curve represents the PDF (Probability density function). This data is approximately normal. Thus, we can assume this data distribution to be normal and perform our calculations based on the normality assumption.\n",
    "\n",
    "X ~ N(mu, sigma)"
   ]
  },
  {
   "cell_type": "markdown",
   "metadata": {
    "id": "QwAnza_V2_zd"
   },
   "source": [
    "**Calculate the probability that a student will score less than 800 in SAT exam.**"
   ]
  },
  {
   "cell_type": "code",
   "execution_count": 24,
   "metadata": {
    "colab": {
     "base_uri": "https://localhost:8080/"
    },
    "id": "q8tpyDpA3ECE",
    "outputId": "0a1a6400-3168-4088-f8ca-0a56728cc5e9"
   },
   "outputs": [
    {
     "name": "stdout",
     "output_type": "stream",
     "text": [
      "The probability that a student will score less than 800 is 0.1551\n"
     ]
    }
   ],
   "source": [
    "# find the cumulative probability\n",
    "# norm.cdf() calculates the cumulative probability\n",
    "prob_less_than_800 = norm.cdf(800, mu, sigma)\n",
    "print(\n",
    "    \"The probability that a student will score less than 800 is\",\n",
    "    round(prob_less_than_800, 4),\n",
    ")"
   ]
  },
  {
   "cell_type": "code",
   "execution_count": 25,
   "metadata": {
    "colab": {
     "base_uri": "https://localhost:8080/",
     "height": 295
    },
    "id": "jfCFhTswmyGQ",
    "outputId": "798e2166-bc1a-4b82-cc99-67ab084b8ccc"
   },
   "outputs": [
    {
     "data": {
      "image/png": "[encoded data removed]",
      "text/plain": [
       "<Figure size 432x288 with 1 Axes>"
      ]
     },
     "metadata": {
      "needs_background": "light"
     },
     "output_type": "display_data"
    }
   ],
   "source": [
    "# plot the probability distribution\n",
    "# We are plotting the distributions here to better visualize the calculations.\n",
    "# Of course you do not 'need' to create the following visualization to answer the question above.\n",
    "# You can directly use the cdf function for probability calculations.\n",
    "plt.plot(density[\"x\"], density[\"pdf\"]) # plot the pdf of the normal distribution\n",
    "plt.axvline(x=800, c=\"r\") # draw a red vertical line at x = 800\n",
    "x1 = np.linspace(density[\"x\"].min(), 800, 50) # create an array of 50 numbers between min SAT score and 800\n",
    "plt.fill_between(x1, norm.pdf(x1, mu, sigma), color=\"r\") # fill the specified region with red color\n",
    "plt.xlabel(\"Score\") # set the x-axis label\n",
    "plt.ylabel(\"Probability\") # set the y-axis label\n",
    "plt.title(\"Normal Distribution\") # set the title\n",
    "plt.show() # display the plot"
   ]
  },
  {
   "cell_type": "markdown",
   "metadata": {
    "id": "6ex638Ds2ZB7"
   },
   "source": [
    "**Calculate the probability that a student will score more than 1300 in SAT exam.**"
   ]
  },
  {
   "cell_type": "code",
   "execution_count": 26,
   "metadata": {
    "colab": {
     "base_uri": "https://localhost:8080/"
    },
    "id": "XKNmeEcitQ5I",
    "outputId": "8de94f66-2e1c-47db-d07e-30b126deef5d"
   },
   "outputs": [
    {
     "name": "stdout",
     "output_type": "stream",
     "text": [
      "The probability that a student will score more than 1300 is 0.0762\n"
     ]
    }
   ],
   "source": [
    "# find the cumulative probability and subtract it from 1 to calculate the probability that a student will score more than 1300\n",
    "prob_greater_than_1300 = 1 - norm.cdf(1300, mu, sigma)\n",
    "print(\n",
    "    \"The probability that a student will score more than 1300 is\",\n",
    "    round(prob_greater_than_1300, 4),\n",
    ")"
   ]
  },
  {
   "cell_type": "code",
   "execution_count": 27,
   "metadata": {
    "colab": {
     "base_uri": "https://localhost:8080/",
     "height": 295
    },
    "id": "OgzxNF6JoUJT",
    "outputId": "ecf9106d-f25f-4f7f-acf1-05cdde83556d"
   },
   "outputs": [
    {
     "data": {
      "image/png": "[encoded data removed]",
      "text/plain": [
       "<Figure size 432x288 with 1 Axes>"
      ]
     },
     "metadata": {
      "needs_background": "light"
     },
     "output_type": "display_data"
    }
   ],
   "source": [
    "# plot the probability distribution\n",
    "# We are plotting the distributions here to better visualize the calculations.\n",
    "# Of course you do not 'need' to create the following visualization to answer the question above.\n",
    "# You can directly use the cdf function for probability calculations.\n",
    "plt.plot(density[\"x\"], density[\"pdf\"])\n",
    "plt.axvline(x=1300, c=\"r\")\n",
    "x1 = np.linspace(1300, density[\"x\"].max(), 50)\n",
    "plt.fill_between(x1, norm.pdf(x1, mu, sigma), color=\"r\")\n",
    "plt.xlabel(\"Score\")\n",
    "plt.ylabel(\"Probability\")\n",
    "plt.title(\"Normal Distribution\")\n",
    "plt.show()"
   ]
  },
  {
   "cell_type": "markdown",
   "metadata": {
    "id": "CYSTnLmh3e7G"
   },
   "source": [
    "**Calculate the minimum marks a student must score in order to be in the 90th percentile**"
   ]
  },
  {
   "cell_type": "code",
   "execution_count": 28,
   "metadata": {
    "colab": {
     "base_uri": "https://localhost:8080/"
    },
    "id": "1HfqiMVm3sv7",
    "outputId": "970cbfc0-d1aa-4465-91d2-acd809a7939a"
   },
   "outputs": [
    {
     "name": "stdout",
     "output_type": "stream",
     "text": [
      "The 90th percentile score should be 1269\n"
     ]
    }
   ],
   "source": [
    "# calculate the 90th percentile score using ppf() function\n",
    "# norm.ppf() calculates the percentile point\n",
    "score_90th_percentile = norm.ppf(0.90, mu, sigma)\n",
    "print(\"The 90th percentile score should be\", round(score_90th_percentile))"
   ]
  },
  {
   "cell_type": "code",
   "execution_count": 29,
   "metadata": {
    "colab": {
     "base_uri": "https://localhost:8080/",
     "height": 295
    },
    "id": "R_hYER8mpU6S",
    "outputId": "7e703f8c-3430-4f04-de43-59720c214ed8"
   },
   "outputs": [
    {
     "data": {
      "image/png": "[encoded data removed]",
      "text/plain": [
       "<Figure size 432x288 with 1 Axes>"
      ]
     },
     "metadata": {
      "needs_background": "light"
     },
     "output_type": "display_data"
    }
   ],
   "source": [
    "# plot the probability distribution\n",
    "# We are plotting the distributions here to better visualize the calculations.\n",
    "# Of course you do not 'need' to create the following visualization to answer the question above.\n",
    "# You can directly use the cdf function for probability calculations.\n",
    "plt.plot(density[\"x\"], density[\"pdf\"])\n",
    "plt.axvline(x=score_90th_percentile, c=\"r\")\n",
    "plt.xlabel(\"Score\")\n",
    "plt.ylabel(\"Probability\")\n",
    "plt.title(\"Normal Distribution\")\n",
    "plt.show()"
   ]
  },
  {
   "cell_type": "markdown",
   "metadata": {
    "id": "3_FzvdEO4yau"
   },
   "source": [
    "**Calculate the minimum marks a student must score in order to be in the top 5%**"
   ]
  },
  {
   "cell_type": "code",
   "execution_count": 30,
   "metadata": {
    "colab": {
     "base_uri": "https://localhost:8080/"
    },
    "id": "19O2QuIR4vIC",
    "outputId": "02413764-cbd9-45e9-a241-ca94ac45620d"
   },
   "outputs": [
    {
     "name": "stdout",
     "output_type": "stream",
     "text": [
      "The minimum score to be in top 5% should be 1344\n"
     ]
    }
   ],
   "source": [
    "# calculate the 95th percentile score using ppf() function\n",
    "score_top_five_percent = norm.ppf(0.95, mu, sigma)\n",
    "print(\"The minimum score to be in top 5% should be\", round(score_top_five_percent))"
   ]
  },
  {
   "cell_type": "code",
   "execution_count": 31,
   "metadata": {
    "colab": {
     "base_uri": "https://localhost:8080/",
     "height": 295
    },
    "id": "BWMz44btpquA",
    "outputId": "9f1594bf-fcc7-420b-8324-8ff272da92c6"
   },
   "outputs": [
    {
     "data": {
      "image/png": "[encoded data removed]",
      "text/plain": [
       "<Figure size 432x288 with 1 Axes>"
      ]
     },
     "metadata": {
      "needs_background": "light"
     },
     "output_type": "display_data"
    }
   ],
   "source": [
    "# plot the probability distribution\n",
    "# We are plotting the distributions here to better visualize the calculations.\n",
    "# Of course you do not 'need' to create the following visualization to answer the question above.\n",
    "# You can directly use the cdf function for probability calculations.\n",
    "plt.plot(density[\"x\"], density[\"pdf\"])\n",
    "plt.axvline(x=score_top_five_percent, c=\"r\")\n",
    "plt.xlabel(\"Score\")\n",
    "plt.ylabel(\"Probability\")\n",
    "plt.title(\"Normal Distribution\")\n",
    "plt.show()"
   ]
  },
  {
   "cell_type": "markdown",
   "metadata": {
    "id": "W91dM6Gwsbzk"
   },
   "source": [
    "**Conclusion:** \n",
    "\n",
    "1) Only 15.51% of students will score below 800 and 7.62% of students will score above 1300. It shows that the 2020 SAT exam's complexity is moderate. \n",
    "\n",
    "2) Students should score at least 1269 to secure the 90th percentile.\n",
    "\n",
    "3) Students should score at least 1344 to be in the top 5%."
   ]
  },
  {
   "cell_type": "markdown",
   "metadata": {},
   "source": [
    "### Standardization of Normal Variables\n",
    "\n",
    "Suppose we know that the SAT scores are normally distributed with mean 1000 and standard deviation 200 and ACT scores are normally distributed with mean 20 and standard deviation 5. \n",
    "\n",
    "A college provides admission only on the basis of SAT and ACT scores. The college admin decides to give the top performer fellowship to the student who has performed the best among all applicants. The highest score received from applicants who appeared for SAT is 1350 and the highest score received from applicants who appeared for ACT is 30. \n",
    "\n",
    "Help the college to choose the best candidate for the fellowship!"
   ]
  },
  {
   "cell_type": "code",
   "execution_count": 32,
   "metadata": {},
   "outputs": [
    {
     "data": {
      "image/png": "[encoded data removed]",
      "text/plain": [
       "<Figure size 864x288 with 2 Axes>"
      ]
     },
     "metadata": {
      "needs_background": "light"
     },
     "output_type": "display_data"
    }
   ],
   "source": [
    "# plot the two distribution for SAT and ACT scores\n",
    "from scipy.stats import norm\n",
    "fig, (ax1, ax2) = plt.subplots(1,2, figsize = (12,4))\n",
    "x = np.linspace(400, 1600, 1000)\n",
    "ax1.plot(x, norm.pdf(x, loc = 1000, scale = 200), color = 'b')\n",
    "ax1.set_title('Normal Distribution of SAT scores')\n",
    "ax1.set_xlabel('SAT scores')\n",
    "ax1.set_ylabel('Probability')\n",
    "ax1.axvline(1350, ymax = 0.23, linestyle = '--', color = 'green')\n",
    "x1 = np.linspace(1, 36, 100)\n",
    "ax2.plot(x1, norm.pdf(x1, loc = 20, scale = 5), color = 'r')\n",
    "ax2.set_title('Normal Distribution of ACT scores')\n",
    "ax2.set_xlabel('ACT scores')\n",
    "ax2.set_ylabel('Probability')\n",
    "ax2.axvline(30, ymax = 0.18, linestyle = '--', color = 'green')\n",
    "plt.show()"
   ]
  },
  {
   "cell_type": "markdown",
   "metadata": {},
   "source": [
    "In the above plot, the blue curve represents the distribution of SAT scores and the red curve represents the distribution of ACT scores. The highest scores of the applicants in SAT and ACT exams are dotted with green lines in the respective distributions. However, it is difficult for us to compare the raw highest scores in the above plot. Thus, we need to standardize the two scores and compare their Z-scores."
   ]
  },
  {
   "cell_type": "code",
   "execution_count": 33,
   "metadata": {},
   "outputs": [
    {
     "name": "stdout",
     "output_type": "stream",
     "text": [
      "The Z-score of highest scorer in SAT among all the applicants 1.75\n",
      "The Z-score of highest scorer in ACT among all the applicants 2.0\n"
     ]
    }
   ],
   "source": [
    "# find the Z-score of highest scorer in SAT among all the applicants\n",
    "top_sat = (1350 - 1000) / 200\n",
    "print('The Z-score of highest scorer in SAT among all the applicants', top_sat)\n",
    "# find the Z-score of highest scorer in ACT among all the applicants\n",
    "top_act = (30 - 20) / 5\n",
    "print('The Z-score of highest scorer in ACT among all the applicants', top_act)"
   ]
  },
  {
   "cell_type": "markdown",
   "metadata": {},
   "source": [
    "Let's plot the standard normal distribution and visualize the above standardized scores."
   ]
  },
  {
   "cell_type": "code",
   "execution_count": 34,
   "metadata": {},
   "outputs": [
    {
     "data": {
      "image/png": "[encoded data removed]",
      "text/plain": [
       "<Figure size 432x288 with 1 Axes>"
      ]
     },
     "metadata": {
      "needs_background": "light"
     },
     "output_type": "display_data"
    }
   ],
   "source": [
    "# plot the standard normal distribution\n",
    "# and visualize the standardized scores\n",
    "# We are plotting the distributions here to better visualize the calculations.\n",
    "fig, ax = plt.subplots()\n",
    "x = np.linspace(-4,4,50)\n",
    "ax.plot(x, norm.pdf(x, loc = 0, scale = 1), color = 'b')\n",
    "ax.set_title('Standard Normal Distribution')\n",
    "ax.set_xlabel('Z-scores')\n",
    "ax.set_ylabel('Probability')\n",
    "ax.axvline(top_sat, ymax = 0.25, linestyle = '--', color = 'green')\n",
    "ax.axvline(top_act, ymax = 0.16, linestyle = '--', color = 'black')\n",
    "plt.show()"
   ]
  },
  {
   "cell_type": "markdown",
   "metadata": {},
   "source": [
    "In the above plot, the green line represents the standardized highest SAT score of the applicants which is 1.75 standard deviations above the mean and the black line represents the standardized highest ACT score of the applicants which is 2 standard deviations above the mean.\n",
    "\n",
    "This means that among the applicants, the highest scorer in ACT performed better than the highest scorer in SAT.\n",
    "\n",
    "Thus, the top performer fellowship should be given to the applicant who has scored highest in ACT."
   ]
  }
 ],
 "metadata": {
  "colab": {
   "collapsed_sections": [],
   "name": "Notebook Week1.ipynb",
   "provenance": []
  },
  "kernelspec": {
   "display_name": "Python 3",
   "language": "python",
   "name": "python3"
  },
  "language_info": {
   "codemirror_mode": {
    "name": "ipython",
    "version": 3
   },
   "file_extension": ".py",
   "mimetype": "text/x-python",
   "name": "python",
   "nbconvert_exporter": "python",
   "pygments_lexer": "ipython3",
   "version": "3.8.8"
  }
 },
 "nbformat": 4,
 "nbformat_minor": 1
}

{
 "cells": [
  {
   "cell_type": "markdown",
   "metadata": {
    "id": "na3XXQqwxk4n"
   },
   "source": [
    "# **Concepts Covered:**\n",
    "\n",
    "- <a href = #link1>Binomial Distribution</a>\n",
    "- <a href = #link2>Continuous Uniform Distribution</a>\n",
    "- <a href = #link3>Normal Distribution</a>\n",
    "\n",
    "\n",
    "\n"
   ]
  },
  {
   "cell_type": "markdown",
   "metadata": {
    "id": "Lc9FElXElv_G"
   },
   "source": [
    "# <a name='link1'>**Binomial Distribution**</a>"
   ]
  },
  {
   "cell_type": "markdown",
   "metadata": {
    "id": "akluEr_i2s6H"
   },
   "source": [
    "## Problem statement \n",
    "80% of all the visitors to Lavista Museum end up buying souvenirs from the souvenir shop at the Museum. On the coming Sunday, if a random sample of 10 visitors is picked:\n",
    "\n",
    " 1. Find the probability that every visitor will end up buying from the souvenir shop\n",
    " 2. Find the probability that a maximum of 7 visitors will buy souvenirs from the souvenir shop\n",
    "\n",
    "Let's check first whether we satisfy the assumptions of the binomial distribution.\n",
    "*  There are only two possible outcomes (success or failure) for each trial – A visitor will buy souvenirs from the souvenir shop or not (yes or no).\n",
    "* Number of trials (n) is fixed - There are 10 visitors in the sample.\n",
    "* Each trial is independent of the other trials - It is reasonable to assume that the buying activity of visitors is independent.\n",
    "* The probability of success (p) is the same for each trial - The probability of success for each visitor is 0.8."
   ]
  },
  {
   "cell_type": "markdown",
   "metadata": {
    "id": "ai6e1N6TF_CH"
   },
   "source": [
    "### Let's import the libraries "
   ]
  },
  {
   "cell_type": "code",
   "execution_count": 1,
   "metadata": {
    "id": "aYQeekfS3tc3"
   },
   "outputs": [],
   "source": [
    "# import the important packages\n",
    "import pandas as pd  # library used for data manipulation and analysis\n",
    "import numpy as np  # library used for working with arrays\n",
    "import matplotlib.pyplot as plt  # library for plots and visualizations\n",
    "import seaborn as sns  # library for visualizations\n",
    "\n",
    "%matplotlib inline\n",
    "\n",
    "import scipy.stats as stats  # this library contains a large number of probability distributions as well as a growing library of statistical functions"
   ]
  },
  {
   "cell_type": "markdown",
   "metadata": {
    "id": "ShfWrUOZUST6"
   },
   "source": [
    "### Let's estimate the probability distribution of visitors"
   ]
  },
  {
   "cell_type": "code",
   "execution_count": 2,
   "metadata": {
    "id": "Hx9QgtUmCo6X"
   },
   "outputs": [],
   "source": [
    "# declare the sample size in variable n which represents the number of visitors selected randomly\n",
    "n = 10"
   ]
  },
  {
   "cell_type": "code",
   "execution_count": 3,
   "metadata": {
    "id": "KYXCeHT1DNzD"
   },
   "outputs": [],
   "source": [
    "# declare p which represents the probability of success, i.e., the probability that a visitor will end up buying a souvenir\n",
    "p = 0.80"
   ]
  },
  {
   "cell_type": "code",
   "execution_count": 4,
   "metadata": {
    "colab": {
     "base_uri": "https://localhost:8080/"
    },
    "id": "erPch6FYDT5D",
    "outputId": "68d01f3d-f9f8-486e-b1c7-61cf07f2a370"
   },
   "outputs": [
    {
     "data": {
      "text/plain": [
       "array([ 0,  1,  2,  3,  4,  5,  6,  7,  8,  9, 10])"
      ]
     },
     "execution_count": 4,
     "metadata": {},
     "output_type": "execute_result"
    }
   ],
   "source": [
    "# declare different possible number of visitors selected in a numpy array\n",
    "k = np.arange(0,11)\n",
    "k"
   ]
  },
  {
   "cell_type": "markdown",
   "metadata": {
    "id": "_SPeCd1AHEY9"
   },
   "source": [
    "The probability function of Binomial Distribution provides the probability for  x  number of successes from n trials where  p is the probability of success   \n",
    "\n",
    ">$P(X=x)= {n\\choose x}p^x(1-p)^{n-x}$\n",
    "\n",
    "\n",
    "Here, we know that:\n",
    "\n",
    "* n ( number of visitors selected randomly ) = 10\n",
    "* p ( probability of success i.e., the probability that a visitor will end up buying a souvenir) = 0.80\n",
    "* q ( probability of failure i.e., the probability that a visitor will not end up buying a souvenir) = 1 - 0.80 = 0.20\n",
    "* x ( number of successes ) = 10\n",
    "\n",
    "\n",
    "We will use binom.pmf() to calculate this probability function which provides the probability for the number of visitors (out of n=10) that will end up buying souvenirs from the souvenir shop."
   ]
  },
  {
   "cell_type": "code",
   "execution_count": 5,
   "metadata": {
    "id": "c9ROgUQTDetd"
   },
   "outputs": [],
   "source": [
    "# import the required function\n",
    "from scipy.stats import binom\n",
    "\n",
    "# use the binom.pmf() function to generate the probability distribution\n",
    "binomial = binom.pmf(k=k, n=n, p=p)"
   ]
  },
  {
   "cell_type": "code",
   "execution_count": 6,
   "metadata": {
    "colab": {
     "base_uri": "https://localhost:8080/"
    },
    "id": "to7lvEKCD7Aj",
    "outputId": "45f584ba-90d8-4475-ecf4-b973ccb8675a"
   },
   "outputs": [
    {
     "data": {
      "text/plain": [
       "array([1.02400000e-07, 4.09600000e-06, 7.37280000e-05, 7.86432000e-04,\n",
       "       5.50502400e-03, 2.64241152e-02, 8.80803840e-02, 2.01326592e-01,\n",
       "       3.01989888e-01, 2.68435456e-01, 1.07374182e-01])"
      ]
     },
     "execution_count": 6,
     "metadata": {},
     "output_type": "execute_result"
    }
   ],
   "source": [
    "binomial"
   ]
  },
  {
   "cell_type": "markdown",
   "metadata": {
    "id": "tGF_ynBaISnE"
   },
   "source": [
    "As you can see **binomial** is the array of probabilities for different number of successes. Let us visualize the same in the following plot."
   ]
  },
  {
   "cell_type": "code",
   "execution_count": 7,
   "metadata": {
    "colab": {
     "base_uri": "https://localhost:8080/",
     "height": 297
    },
    "id": "V1ogSei5D7Ik",
    "outputId": "c1dbba93-7b24-4449-ba4c-f077a5893756"
   },
   "outputs": [
    {
     "data": {
      "image/png": "[encoded data removed]",
      "text/plain": [
       "<Figure size 432x288 with 1 Axes>"
      ]
     },
     "metadata": {
      "needs_background": "light"
     },
     "output_type": "display_data"
    }
   ],
   "source": [
    "# plot the distribution\n",
    "plt.bar(k, binomial) # make a bar plot\n",
    "plt.title(\"Binomial: n=%i , p=%.2f\" % (n, p), fontsize=15) # set the title\n",
    "plt.xlabel(\"Number of Successes\") # set the x-axis label\n",
    "plt.ylabel(\"Probability of Successes\") # set the y-axis label\n",
    "plt.show() # display the plot"
   ]
  },
  {
   "cell_type": "markdown",
   "metadata": {
    "id": "_ueGwQYmIrL_"
   },
   "source": [
    "The last element of this **binomial** array represents the probability when the number of successes is 10 (which means that all 10 visitors (out of 10 selected randomly) will buy souvenirs from the souvenir shop)"
   ]
  },
  {
   "cell_type": "code",
   "execution_count": 8,
   "metadata": {
    "colab": {
     "base_uri": "https://localhost:8080/"
    },
    "id": "lvhb5VYoEiDO",
    "outputId": "c3fb324d-b6f9-4e81-cada-2cfc3f355cb9"
   },
   "outputs": [
    {
     "data": {
      "text/plain": [
       "0.10737418240000006"
      ]
     },
     "execution_count": 8,
     "metadata": {},
     "output_type": "execute_result"
    }
   ],
   "source": [
    "binomial[10]"
   ]
  },
  {
   "cell_type": "markdown",
   "metadata": {
    "id": "WmjpVsHNIY8L"
   },
   "source": [
    "The above probability shows that the probability of exactly 10 successes is  ~ 0.11.\n",
    "\n",
    "Now, we are interested in knowing the probability of at most 7 successes which means what is the probability that out of 10 randomly selected visitors, a maximum of 7 visitors will buy souvenirs from the souvenir shop.\n",
    "\n",
    "Here, we need to calculate the probability for P(X<=7). CDF is used to calculate the cumulative probability.\n",
    "\n",
    "\n",
    "\n",
    "**CDF:** of a Random variable (X) is the probability that X  will take the value less than or equal to x. It can be represented mathematically as below.\n",
    "\n",
    ">$F_X(x) = P(X\\leq x)$\n",
    "\n",
    "In our case, Random Variable (X) is the number of visitors who will buy souvenirs from the souvenir shop.\n",
    "\n",
    "$P(X\\leq 7)$\n"
   ]
  },
  {
   "cell_type": "code",
   "execution_count": 9,
   "metadata": {
    "colab": {
     "base_uri": "https://localhost:8080/",
     "height": 297
    },
    "id": "5KCXHQNUghBI",
    "outputId": "26973f52-3684-46fd-c139-b96766f6ad19"
   },
   "outputs": [
    {
     "data": {
      "image/png": "[encoded data removed]",
      "text/plain": [
       "<Figure size 432x288 with 1 Axes>"
      ]
     },
     "metadata": {
      "needs_background": "light"
     },
     "output_type": "display_data"
    }
   ],
   "source": [
    "# plot the probability distribution\n",
    "# We are plotting the distributions here to better visualize the calculations.\n",
    "# Of course you do not 'need' to create the following visualization to answer the question above.\n",
    "# You can directly use the cdf function for probability calculations.\n",
    "barl = plt.bar(k, binomial) # make a bar plot\n",
    "plt.title(\"Binomial: n=%i , p=%.2f\" % (n, p), fontsize=15) # set the title\n",
    "plt.xlabel(\"Number of Successes\") # set the x-axis label\n",
    "plt.ylabel(\"Probability of Successes\") # set the y-axis label\n",
    "for i in range(0, 8):\n",
    "    barl[i].set_color(\"r\") # color the bars in red where number of successes is less than 8\n",
    "plt.show() # display the plot"
   ]
  },
  {
   "cell_type": "markdown",
   "metadata": {
    "id": "zmYRVcQsgo7e"
   },
   "source": [
    "In the above graph, the red region represents P(X<=7).\n",
    "Let's calculate the probability that out of 10 randomly selected visitors, a maximum of 7 will buy souvenirs from the souvenir shop. We will use binom.cdf() for this."
   ]
  },
  {
   "cell_type": "code",
   "execution_count": 10,
   "metadata": {
    "colab": {
     "base_uri": "https://localhost:8080/"
    },
    "id": "ijlJm_BGJec0",
    "outputId": "c70b5d6f-cf92-4a17-f13f-747f6dc2e95a"
   },
   "outputs": [
    {
     "data": {
      "text/plain": [
       "0.32220047359999987"
      ]
     },
     "execution_count": 10,
     "metadata": {},
     "output_type": "execute_result"
    }
   ],
   "source": [
    "# calculate cdf\n",
    "binom.cdf(k=7, n=n, p=p)"
   ]
  },
  {
   "cell_type": "markdown",
   "metadata": {
    "id": "0UlaBxDXEioT"
   },
   "source": [
    "### Conclusion: \n",
    "\n",
    "There is a 10.74% chance that every visitor will end up buying souvenirs from the souvenir shop.\n",
    "\n",
    "There is q 32.22% chance that a maximum of 7 visitors out of 10 will buy souvenirs from the souvenir shop."
   ]
  },
  {
   "cell_type": "markdown",
   "metadata": {
    "id": "3yuNgVeW2tbn"
   },
   "source": [
    "Let's try to change the probability of success (probability that each visitor will buy souvenirs from the souvenir shop) to different values like 60%,70%,90%,95% and visualize how the shape of the distribution changes."
   ]
  },
  {
   "cell_type": "code",
   "execution_count": 11,
   "metadata": {
    "colab": {
     "base_uri": "https://localhost:8080/",
     "height": 297
    },
    "id": "m83o5m7Tleke",
    "outputId": "314a71fb-e32d-4dc7-a311-574a759394d8"
   },
   "outputs": [
    {
     "data": {
      "image/png": "[encoded data removed]",
      "text/plain": [
       "<Figure size 1080x288 with 3 Axes>"
      ]
     },
     "metadata": {
      "needs_background": "light"
     },
     "output_type": "display_data"
    }
   ],
   "source": [
    "plt.figure(figsize=(15, 4))\n",
    "\n",
    "plt.subplot(131)\n",
    "binomial_70 = binom.pmf(k, n, p=0.7)\n",
    "\n",
    "# plot the distribution of the same\n",
    "plt.bar(k, binomial_70)\n",
    "plt.title(\"p=%.2f\" % (0.7), fontsize=15)\n",
    "plt.xlabel(\"Number of Successes\")\n",
    "plt.ylabel(\"Probability of Successes\")\n",
    "\n",
    "plt.subplot(132)\n",
    "binomial_80 = binom.pmf(k, n, p=0.8)\n",
    "\n",
    "# plot the distribution of the same\n",
    "plt.bar(k, binomial_80)\n",
    "plt.title(\"p=%.2f\" % (0.8), fontsize=15)\n",
    "plt.xlabel(\"Number of Successes\")\n",
    "plt.ylabel(\"Probability of Successes\")\n",
    "\n",
    "plt.subplot(133)\n",
    "binomial_90 = binom.pmf(k, n, p=0.9)\n",
    "\n",
    "# plot the distribution of the same\n",
    "plt.bar(k, binomial_90)\n",
    "plt.title(\"p=%.2f\" % (0.9), fontsize=15)\n",
    "plt.xlabel(\"Number of Successes\")\n",
    "plt.ylabel(\"Probability of Successes\")\n",
    "\n",
    "plt.tight_layout(w_pad=5)"
   ]
  },
  {
   "cell_type": "markdown",
   "metadata": {
    "id": "-eqlw5Nspaij"
   },
   "source": [
    "### Conclusion:\n",
    "\n",
    "It is clear from the above plot that the shape of the distribution changes as the value of p (probability of success) changes."
   ]
  }
 ],
 "metadata": {
  "colab": {
   "collapsed_sections": [],
   "name": "Notebook Week1.ipynb",
   "provenance": []
  },
  "kernelspec": {
   "display_name": "Python 3",
   "language": "python",
   "name": "python3"
  },
  "language_info": {
   "codemirror_mode": {
    "name": "ipython",
    "version": 3
   },
   "file_extension": ".py",
   "mimetype": "text/x-python",
   "name": "python",
   "nbconvert_exporter": "python",
   "pygments_lexer": "ipython3",
   "version": "3.8.8"
  }
 },
 "nbformat": 4,
 "nbformat_minor": 1
}
